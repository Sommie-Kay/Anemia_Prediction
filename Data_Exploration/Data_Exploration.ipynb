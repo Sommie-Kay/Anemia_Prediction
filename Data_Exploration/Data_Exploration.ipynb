{
 "cells": [
  {
   "cell_type": "markdown",
   "id": "a5245e2e-819f-4ded-8e18-d9274a78661c",
   "metadata": {},
   "source": [
    "# ANEMIA PREDICTION"
   ]
  },
  {
   "cell_type": "markdown",
   "id": "f36d78f9-3bd3-4562-b526-a152f315a614",
   "metadata": {},
   "source": [
    "## Import Libraries"
   ]
  },
  {
   "cell_type": "code",
   "execution_count": 1,
   "id": "2ebdeb53-2960-4e90-aeee-a756d5827a5e",
   "metadata": {},
   "outputs": [],
   "source": [
    "import pandas as pd\n",
    "import numpy as np\n",
    "import matplotlib.pyplot as plt\n",
    "import seaborn as sns\n",
    "from sklearn.preprocessing import LabelEncoder\n",
    "from sklearn.model_selection import train_test_split\n",
    "from sklearn.preprocessing import StandardScaler\n",
    "from sklearn.linear_model import LogisticRegression\n",
    "from sklearn.metrics import mean_absolute_error, mean_squared_error, r2_score\n",
    "from sklearn.tree import DecisionTreeClassifier\n",
    "from sklearn.metrics import classification_report\n",
    "from sklearn.ensemble import RandomForestClassifier, ExtraTreesClassifier, GradientBoostingClassifier\n",
    "from xgboost import XGBRegressor\n",
    "import xgboost as xgb\n",
    "from sklearn.model_selection import GridSearchCV\n",
    "from sklearn.metrics import roc_curve, auc\n",
    "import warnings"
   ]
  },
  {
   "cell_type": "markdown",
   "id": "eda023ce-39ea-412f-80c6-928a7c0ce6e8",
   "metadata": {},
   "source": [
    "## Data Preparation"
   ]
  },
  {
   "cell_type": "markdown",
   "id": "a9f702af-4c95-4fb9-9673-c67f6d6e70a6",
   "metadata": {},
   "source": [
    "Now i will create a wrangle function that imports and clean the Data set the fuction will be updated as i walk through sevral phases of Data Exploration"
   ]
  },
  {
   "cell_type": "code",
   "execution_count": 39,
   "id": "8bb45ccc-d7d8-456e-a31c-5dbdb3ea26a1",
   "metadata": {},
   "outputs": [],
   "source": [
    "def wrangle(filepath):\n",
    "    # read csv into DataFrame\n",
    "    df = pd.read_csv(filepath)\n",
    "    \n",
    "    # Rename columns for better clarity and to facilitate analysis\n",
    "    df.rename(columns={'Age in 5-year groups': 'age',\n",
    "                       'Type of place of residence': 'residence',\n",
    "                       'Highest educational level': 'educational_level',\n",
    "                       'Wealth index combined': 'wealth_index',\n",
    "                       'Births in last five years': 'births_5_years',\n",
    "                       'Age of respondent at 1st birth': 'respondent_1st_birth',\n",
    "                       'Hemoglobin level adjusted for altitude and smoking (g/dl - 1 decimal)': 'hemoglobin_altitude_smoking',\n",
    "                       'Anemia level': 'anemia_level_target',\n",
    "                       'Have mosquito bed net for sleeping (from household questionnaire)': 'mosquito_net_owners',\n",
    "                       'Smokes cigarettes': 'smokers',\n",
    "                       'Current marital status': 'marital_status',\n",
    "                       'Currently residing with husband/partner': 'partner_residence',\n",
    "                       'When child put to breast': 'child_put_breast',\n",
    "                       'Had fever in last two weeks': 'fever_two_weeks',\n",
    "                       'Hemoglobin level adjusted for altitude (g/dl - 1 decimal)': 'hemoglobin_altitude',\n",
    "                       'Anemia level.1': 'anemia_level_1',\n",
    "                       'Taking iron pills, sprinkles or syrup': 'iron_pills'}, inplace=True)\n",
    "    \n",
    "    # drop collumn with 50% null values .\n",
    "    df.drop(columns=\"anemia_level_1\" , inplace = True)\n",
    "    \n",
    "    # List of columns to impute\n",
    "    columns_to_impute = ['hemoglobin_altitude_smoking','hemoglobin_altitude']\n",
    "\n",
    "    # Convert relevant columns to numeric before imputing\n",
    "    numeric_columns = columns_to_impute\n",
    "    for column in numeric_columns:\n",
    "        df[column] = pd.to_numeric(df[column], errors='coerce')\n",
    "\n",
    "    # Impute missing values with mean\n",
    "    for column in columns_to_impute:\n",
    "        mean_value = df[column].mean()\n",
    "        df[column].fillna(mean_value, inplace=True)\n",
    "        \n",
    "    # drop the column for high cardinality\n",
    "    df.drop(columns=\"child_put_breast\", inplace=True)  \n",
    "    \n",
    "    # Fill NaN values in specified columns with the string \"Dont know\"\n",
    "    df['anemia_level_target'] = df['anemia_level_target'].fillna(\"Dont know\") \n",
    "    \n",
    "    #'Anemia level'  mapping\n",
    "    category_mapping = {'Dont know': 0, 'Moderate': 1, 'Mild': 2, 'Not anemic': 3, 'Severe': 4}\n",
    "\n",
    "    # Map the categories to numerical values\n",
    "    df['anemia_level_target'] = df['anemia_level_target'].map(category_mapping)\n",
    "    \n",
    "    \n",
    "    # define a function\n",
    "    def replace_nan_with_word(x, word='Staying elsewhere'):\n",
    "        \"\"\"\n",
    "        Replace NaN values in a pandas Series with a specified word.\n",
    "\n",
    "        Parameters:\n",
    "        - x: pandas Series\n",
    "        - word: str, default='Staying elsewhere'\n",
    "        \"\"\"\n",
    "        return x.fillna(word)\n",
    "\n",
    "    # Apply the function to replace NaN values in the column\n",
    "    df['partner_residence'] = replace_nan_with_word(df['partner_residence'])\n",
    "\n",
    "    # Fill NaN values in the 'fever_two_weeks' column with the string \"Dont know\"\n",
    "    df['fever_two_weeks'] = df['fever_two_weeks'].fillna(\"Dont know\")\n",
    "    \n",
    "    # Fill NaN values in the 'iron_pills' column with the string \"Dont know\"\n",
    "    df['iron_pills'] = df['iron_pills'].fillna(\"Dont know\")\n",
    "    \n",
    "\n",
    "    return df"
   ]
  },
  {
   "cell_type": "code",
   "execution_count": 3,
   "id": "5e41d2e9-315d-4227-b4ca-a71bbb27eae2",
   "metadata": {},
   "outputs": [
    {
     "data": {
      "text/html": [
       "<div>\n",
       "<style scoped>\n",
       "    .dataframe tbody tr th:only-of-type {\n",
       "        vertical-align: middle;\n",
       "    }\n",
       "\n",
       "    .dataframe tbody tr th {\n",
       "        vertical-align: top;\n",
       "    }\n",
       "\n",
       "    .dataframe thead th {\n",
       "        text-align: right;\n",
       "    }\n",
       "</style>\n",
       "<table border=\"1\" class=\"dataframe\">\n",
       "  <thead>\n",
       "    <tr style=\"text-align: right;\">\n",
       "      <th></th>\n",
       "      <th>Age in 5-year groups</th>\n",
       "      <th>Type of place of residence</th>\n",
       "      <th>Highest educational level</th>\n",
       "      <th>Wealth index combined</th>\n",
       "      <th>Births in last five years</th>\n",
       "      <th>Age of respondent at 1st birth</th>\n",
       "      <th>Hemoglobin level adjusted for altitude and smoking (g/dl - 1 decimal)</th>\n",
       "      <th>Anemia level</th>\n",
       "      <th>Have mosquito bed net for sleeping (from household questionnaire)</th>\n",
       "      <th>Smokes cigarettes</th>\n",
       "      <th>Current marital status</th>\n",
       "      <th>Currently residing with husband/partner</th>\n",
       "      <th>When child put to breast</th>\n",
       "      <th>Had fever in last two weeks</th>\n",
       "      <th>Hemoglobin level adjusted for altitude (g/dl - 1 decimal)</th>\n",
       "      <th>Anemia level.1</th>\n",
       "      <th>Taking iron pills, sprinkles or syrup</th>\n",
       "    </tr>\n",
       "  </thead>\n",
       "  <tbody>\n",
       "    <tr>\n",
       "      <th>0</th>\n",
       "      <td>40-44</td>\n",
       "      <td>Urban</td>\n",
       "      <td>Higher</td>\n",
       "      <td>Richest</td>\n",
       "      <td>1</td>\n",
       "      <td>22</td>\n",
       "      <td>NaN</td>\n",
       "      <td>NaN</td>\n",
       "      <td>Yes</td>\n",
       "      <td>No</td>\n",
       "      <td>Living with partner</td>\n",
       "      <td>Staying elsewhere</td>\n",
       "      <td>Immediately</td>\n",
       "      <td>No</td>\n",
       "      <td>NaN</td>\n",
       "      <td>NaN</td>\n",
       "      <td>Yes</td>\n",
       "    </tr>\n",
       "    <tr>\n",
       "      <th>1</th>\n",
       "      <td>35-39</td>\n",
       "      <td>Urban</td>\n",
       "      <td>Higher</td>\n",
       "      <td>Richest</td>\n",
       "      <td>1</td>\n",
       "      <td>28</td>\n",
       "      <td>NaN</td>\n",
       "      <td>NaN</td>\n",
       "      <td>Yes</td>\n",
       "      <td>No</td>\n",
       "      <td>Married</td>\n",
       "      <td>Living with her</td>\n",
       "      <td>Hours: 1</td>\n",
       "      <td>No</td>\n",
       "      <td>NaN</td>\n",
       "      <td>NaN</td>\n",
       "      <td>No</td>\n",
       "    </tr>\n",
       "    <tr>\n",
       "      <th>2</th>\n",
       "      <td>25-29</td>\n",
       "      <td>Urban</td>\n",
       "      <td>Higher</td>\n",
       "      <td>Richest</td>\n",
       "      <td>1</td>\n",
       "      <td>26</td>\n",
       "      <td>NaN</td>\n",
       "      <td>NaN</td>\n",
       "      <td>No</td>\n",
       "      <td>No</td>\n",
       "      <td>Married</td>\n",
       "      <td>Living with her</td>\n",
       "      <td>Immediately</td>\n",
       "      <td>No</td>\n",
       "      <td>NaN</td>\n",
       "      <td>NaN</td>\n",
       "      <td>No</td>\n",
       "    </tr>\n",
       "    <tr>\n",
       "      <th>3</th>\n",
       "      <td>25-29</td>\n",
       "      <td>Urban</td>\n",
       "      <td>Secondary</td>\n",
       "      <td>Richest</td>\n",
       "      <td>1</td>\n",
       "      <td>25</td>\n",
       "      <td>95.0</td>\n",
       "      <td>Moderate</td>\n",
       "      <td>Yes</td>\n",
       "      <td>No</td>\n",
       "      <td>Married</td>\n",
       "      <td>Living with her</td>\n",
       "      <td>105.0</td>\n",
       "      <td>No</td>\n",
       "      <td>114.0</td>\n",
       "      <td>Not anemic</td>\n",
       "      <td>No</td>\n",
       "    </tr>\n",
       "    <tr>\n",
       "      <th>4</th>\n",
       "      <td>20-24</td>\n",
       "      <td>Urban</td>\n",
       "      <td>Secondary</td>\n",
       "      <td>Richest</td>\n",
       "      <td>1</td>\n",
       "      <td>21</td>\n",
       "      <td>NaN</td>\n",
       "      <td>NaN</td>\n",
       "      <td>Yes</td>\n",
       "      <td>No</td>\n",
       "      <td>No longer living together/separated</td>\n",
       "      <td>NaN</td>\n",
       "      <td>Immediately</td>\n",
       "      <td>No</td>\n",
       "      <td>NaN</td>\n",
       "      <td>NaN</td>\n",
       "      <td>No</td>\n",
       "    </tr>\n",
       "  </tbody>\n",
       "</table>\n",
       "</div>"
      ],
      "text/plain": [
       "  Age in 5-year groups Type of place of residence Highest educational level  \\\n",
       "0                40-44                      Urban                    Higher   \n",
       "1                35-39                      Urban                    Higher   \n",
       "2                25-29                      Urban                    Higher   \n",
       "3                25-29                      Urban                 Secondary   \n",
       "4                20-24                      Urban                 Secondary   \n",
       "\n",
       "  Wealth index combined  Births in last five years  \\\n",
       "0               Richest                          1   \n",
       "1               Richest                          1   \n",
       "2               Richest                          1   \n",
       "3               Richest                          1   \n",
       "4               Richest                          1   \n",
       "\n",
       "   Age of respondent at 1st birth  \\\n",
       "0                              22   \n",
       "1                              28   \n",
       "2                              26   \n",
       "3                              25   \n",
       "4                              21   \n",
       "\n",
       "   Hemoglobin level adjusted for altitude and smoking (g/dl - 1 decimal)  \\\n",
       "0                                                NaN                       \n",
       "1                                                NaN                       \n",
       "2                                                NaN                       \n",
       "3                                               95.0                       \n",
       "4                                                NaN                       \n",
       "\n",
       "  Anemia level  \\\n",
       "0          NaN   \n",
       "1          NaN   \n",
       "2          NaN   \n",
       "3     Moderate   \n",
       "4          NaN   \n",
       "\n",
       "  Have mosquito bed net for sleeping (from household questionnaire)  \\\n",
       "0                                                Yes                  \n",
       "1                                                Yes                  \n",
       "2                                                 No                  \n",
       "3                                                Yes                  \n",
       "4                                                Yes                  \n",
       "\n",
       "  Smokes cigarettes               Current marital status  \\\n",
       "0                No                  Living with partner   \n",
       "1                No                              Married   \n",
       "2                No                              Married   \n",
       "3                No                              Married   \n",
       "4                No  No longer living together/separated   \n",
       "\n",
       "  Currently residing with husband/partner When child put to breast  \\\n",
       "0                       Staying elsewhere              Immediately   \n",
       "1                         Living with her                 Hours: 1   \n",
       "2                         Living with her              Immediately   \n",
       "3                         Living with her                    105.0   \n",
       "4                                     NaN              Immediately   \n",
       "\n",
       "  Had fever in last two weeks  \\\n",
       "0                          No   \n",
       "1                          No   \n",
       "2                          No   \n",
       "3                          No   \n",
       "4                          No   \n",
       "\n",
       "   Hemoglobin level adjusted for altitude (g/dl - 1 decimal) Anemia level.1  \\\n",
       "0                                                NaN                    NaN   \n",
       "1                                                NaN                    NaN   \n",
       "2                                                NaN                    NaN   \n",
       "3                                              114.0             Not anemic   \n",
       "4                                                NaN                    NaN   \n",
       "\n",
       "  Taking iron pills, sprinkles or syrup  \n",
       "0                                   Yes  \n",
       "1                                    No  \n",
       "2                                    No  \n",
       "3                                    No  \n",
       "4                                    No  "
      ]
     },
     "execution_count": 3,
     "metadata": {},
     "output_type": "execute_result"
    }
   ],
   "source": [
    "df = wrangle(\"children anemia.csv\")\n",
    "df.head()"
   ]
  },
  {
   "cell_type": "code",
   "execution_count": 4,
   "id": "47d16727-e9d4-4b5f-b016-b26bfd2c60c3",
   "metadata": {},
   "outputs": [
    {
     "name": "stdout",
     "output_type": "stream",
     "text": [
      "<class 'pandas.core.frame.DataFrame'>\n",
      "RangeIndex: 33924 entries, 0 to 33923\n",
      "Data columns (total 17 columns):\n",
      " #   Column                                                                 Non-Null Count  Dtype  \n",
      "---  ------                                                                 --------------  -----  \n",
      " 0   Age in 5-year groups                                                   33924 non-null  object \n",
      " 1   Type of place of residence                                             33924 non-null  object \n",
      " 2   Highest educational level                                              33924 non-null  object \n",
      " 3   Wealth index combined                                                  33924 non-null  object \n",
      " 4   Births in last five years                                              33924 non-null  int64  \n",
      " 5   Age of respondent at 1st birth                                         33924 non-null  int64  \n",
      " 6   Hemoglobin level adjusted for altitude and smoking (g/dl - 1 decimal)  13136 non-null  float64\n",
      " 7   Anemia level                                                           13136 non-null  object \n",
      " 8   Have mosquito bed net for sleeping (from household questionnaire)      33924 non-null  object \n",
      " 9   Smokes cigarettes                                                      33924 non-null  object \n",
      " 10  Current marital status                                                 33924 non-null  object \n",
      " 11  Currently residing with husband/partner                                32226 non-null  object \n",
      " 12  When child put to breast                                               21168 non-null  object \n",
      " 13  Had fever in last two weeks                                            30713 non-null  object \n",
      " 14  Hemoglobin level adjusted for altitude (g/dl - 1 decimal)              10182 non-null  float64\n",
      " 15  Anemia level.1                                                         10182 non-null  object \n",
      " 16  Taking iron pills, sprinkles or syrup                                  30713 non-null  object \n",
      "dtypes: float64(2), int64(2), object(13)\n",
      "memory usage: 4.4+ MB\n"
     ]
    },
    {
     "data": {
      "text/plain": [
       "(33924, 17)"
      ]
     },
     "execution_count": 4,
     "metadata": {},
     "output_type": "execute_result"
    }
   ],
   "source": [
    "df.info()\n",
    "df.shape"
   ]
  },
  {
   "cell_type": "markdown",
   "id": "1eaaf34f-df91-4966-87ab-d866d7ef67b6",
   "metadata": {},
   "source": [
    "Next I'll check for the number of Null values in each fatures of the Dataframe."
   ]
  },
  {
   "cell_type": "code",
   "execution_count": 5,
   "id": "16b197cb-dc37-45cd-a4c3-1978d01c5599",
   "metadata": {},
   "outputs": [
    {
     "name": "stdout",
     "output_type": "stream",
     "text": [
      "Age in 5-year groups                                                         0\n",
      "Type of place of residence                                                   0\n",
      "Highest educational level                                                    0\n",
      "Wealth index combined                                                        0\n",
      "Births in last five years                                                    0\n",
      "Age of respondent at 1st birth                                               0\n",
      "Hemoglobin level adjusted for altitude and smoking (g/dl - 1 decimal)    20788\n",
      "Anemia level                                                             20788\n",
      "Have mosquito bed net for sleeping (from household questionnaire)            0\n",
      "Smokes cigarettes                                                            0\n",
      "Current marital status                                                       0\n",
      "Currently residing with husband/partner                                   1698\n",
      "When child put to breast                                                 12756\n",
      "Had fever in last two weeks                                               3211\n",
      "Hemoglobin level adjusted for altitude (g/dl - 1 decimal)                23742\n",
      "Anemia level.1                                                           23742\n",
      "Taking iron pills, sprinkles or syrup                                     3211\n",
      "dtype: int64\n"
     ]
    }
   ],
   "source": [
    "# check for null values\n",
    "null_values = df.isnull().sum()\n",
    "print(null_values)"
   ]
  },
  {
   "cell_type": "markdown",
   "id": "ab826334-3afd-4786-b3a4-b622fb64c7c1",
   "metadata": {},
   "source": [
    "Next I'll rename features for better understanding and analysis."
   ]
  },
  {
   "cell_type": "code",
   "execution_count": 6,
   "id": "23505f4b-0bd2-4fc8-9079-379f64dccb6f",
   "metadata": {},
   "outputs": [],
   "source": [
    "# Rename columns for better clarity and to facilitate analysis\n",
    "\n",
    "df.rename(columns={'Age in 5-year groups': 'age',\n",
    "                   'Type of place of residence': 'residence',\n",
    "                   'Highest educational level': 'educational_level',\n",
    "                   'Wealth index combined': 'wealth_index',\n",
    "                   'Births in last five years': 'births_5_years',\n",
    "                   'Age of respondent at 1st birth': 'respondent_1st_birth',\n",
    "                   'Hemoglobin level adjusted for altitude and smoking (g/dl - 1 decimal)': 'hemoglobin_altitude_smoking',\n",
    "                   'Anemia level': 'anemia_level_target',\n",
    "                   'Have mosquito bed net for sleeping (from household questionnaire)': 'mosquito_net_owners',\n",
    "                   'Smokes cigarettes': 'smokers',\n",
    "                   'Current marital status': 'marital_status',\n",
    "                   'Currently residing with husband/partner': 'partner_residence',\n",
    "                   'When child put to breast': 'child_put_breast',\n",
    "                   'Had fever in last two weeks': 'fever_two_weeks',\n",
    "                   'Hemoglobin level adjusted for altitude (g/dl - 1 decimal)': 'hemoglobin_altitude',\n",
    "                   'Anemia level.1': 'anemia_level_1',\n",
    "                   'Taking iron pills, sprinkles or syrup': 'iron_pills'}, inplace=True)"
   ]
  },
  {
   "cell_type": "code",
   "execution_count": 7,
   "id": "88e042bf-13eb-42cd-ba24-18d1021f9541",
   "metadata": {},
   "outputs": [
    {
     "data": {
      "text/plain": [
       "Index(['age', 'residence', 'educational_level', 'wealth_index',\n",
       "       'births_5_years', 'respondent_1st_birth', 'hemoglobin_altitude_smoking',\n",
       "       'anemia_level_target', 'mosquito_net_owners', 'smokers',\n",
       "       'marital_status', 'partner_residence', 'child_put_breast',\n",
       "       'fever_two_weeks', 'hemoglobin_altitude', 'anemia_level_1',\n",
       "       'iron_pills'],\n",
       "      dtype='object')"
      ]
     },
     "execution_count": 7,
     "metadata": {},
     "output_type": "execute_result"
    }
   ],
   "source": [
    "# Chcecking updated feature names \n",
    "df.columns"
   ]
  },
  {
   "cell_type": "markdown",
   "id": "1685007a-71f5-4a19-aeae-ee312d4d62a3",
   "metadata": {},
   "source": [
    "Next I'll check for features with more than 50% of null values and drop them "
   ]
  },
  {
   "cell_type": "code",
   "execution_count": 8,
   "id": "827294de-b8de-4fad-a5a5-90a3ab0a4d9a",
   "metadata": {},
   "outputs": [
    {
     "name": "stdout",
     "output_type": "stream",
     "text": [
      "age                             0.000000\n",
      "residence                       0.000000\n",
      "educational_level               0.000000\n",
      "wealth_index                    0.000000\n",
      "births_5_years                  0.000000\n",
      "respondent_1st_birth            0.000000\n",
      "hemoglobin_altitude_smoking    61.278151\n",
      "anemia_level_target            61.278151\n",
      "mosquito_net_owners             0.000000\n",
      "smokers                         0.000000\n",
      "marital_status                  0.000000\n",
      "partner_residence               5.005306\n",
      "child_put_breast               37.601698\n",
      "fever_two_weeks                 9.465275\n",
      "hemoglobin_altitude            69.985851\n",
      "anemia_level_1                 69.985851\n",
      "iron_pills                      9.465275\n",
      "dtype: float64\n"
     ]
    }
   ],
   "source": [
    "missing_values = (df.isnull().sum()/len(df))*100\n",
    "print(missing_values)"
   ]
  },
  {
   "cell_type": "markdown",
   "id": "c77a6b23-d07c-42a0-a5b3-4e9a456e9a64",
   "metadata": {},
   "source": [
    "The Features (hemoglobin_altitude_smoking,anemia_level_target,anemia_level_1,hemoglobin_altitude) all have more than 50% Null but the aneamia and hemoglobin features are very important so i'll use the mean imputing startegy to fill them up. and drop the anemia_level_1 column  "
   ]
  },
  {
   "cell_type": "code",
   "execution_count": 24,
   "id": "eccdfa5c-63d9-436c-be8e-432ca77cd531",
   "metadata": {},
   "outputs": [],
   "source": [
    "# drop collumn with 50% null values .\n",
    "df.drop(columns=\"anemia_level_1\" , inplace = True)"
   ]
  },
  {
   "cell_type": "code",
   "execution_count": 9,
   "id": "3b0ff5d3-e93c-4f10-abd8-ad94e9c6c032",
   "metadata": {},
   "outputs": [
    {
     "name": "stdout",
     "output_type": "stream",
     "text": [
      "Missing values after imputation:\n",
      " age                                0\n",
      "residence                          0\n",
      "educational_level                  0\n",
      "wealth_index                       0\n",
      "births_5_years                     0\n",
      "respondent_1st_birth               0\n",
      "hemoglobin_altitude_smoking        0\n",
      "anemia_level_target            20788\n",
      "mosquito_net_owners                0\n",
      "smokers                            0\n",
      "marital_status                     0\n",
      "partner_residence               1698\n",
      "child_put_breast               12756\n",
      "fever_two_weeks                 3211\n",
      "hemoglobin_altitude                0\n",
      "anemia_level_1                 23742\n",
      "iron_pills                      3211\n",
      "dtype: int64\n"
     ]
    }
   ],
   "source": [
    "# List of columns to impute\n",
    "columns_to_impute = ['hemoglobin_altitude_smoking','hemoglobin_altitude']\n",
    "\n",
    "# Convert relevant columns to numeric before imputing\n",
    "numeric_columns = columns_to_impute\n",
    "for column in numeric_columns:\n",
    "    df[column] = pd.to_numeric(df[column], errors='coerce')\n",
    "\n",
    "# Impute missing values with mean\n",
    "for column in columns_to_impute:\n",
    "    mean_value = df[column].mean()\n",
    "    df[column].fillna(mean_value, inplace=True)\n",
    "\n",
    "# Check if missing values are filled\n",
    "missing_values_after_imputation = df.isnull().sum()\n",
    "print(\"Missing values after imputation:\\n\", missing_values_after_imputation)\n"
   ]
  },
  {
   "cell_type": "markdown",
   "id": "6e7be722-5a63-4c7a-965c-94119cf383d9",
   "metadata": {},
   "source": [
    "Next I'll check for cardinality "
   ]
  },
  {
   "cell_type": "code",
   "execution_count": 10,
   "id": "36acefac-f930-4754-9e36-37013142b816",
   "metadata": {},
   "outputs": [
    {
     "data": {
      "text/plain": [
       "age                     7\n",
       "residence               2\n",
       "educational_level       4\n",
       "wealth_index            5\n",
       "anemia_level_target     4\n",
       "mosquito_net_owners     2\n",
       "smokers                 2\n",
       "marital_status          6\n",
       "partner_residence       2\n",
       "child_put_breast       41\n",
       "fever_two_weeks         3\n",
       "anemia_level_1          4\n",
       "iron_pills              3\n",
       "dtype: int64"
      ]
     },
     "execution_count": 10,
     "metadata": {},
     "output_type": "execute_result"
    }
   ],
   "source": [
    "#Cardinality check\n",
    "df.select_dtypes(\"object\").nunique()"
   ]
  },
  {
   "cell_type": "markdown",
   "id": "488d106a-3e69-4594-acdf-d165adae06c2",
   "metadata": {},
   "source": [
    "It can be seen that the child_put_breast feature pocesses high cardinality hence i'll drop the feature."
   ]
  },
  {
   "cell_type": "code",
   "execution_count": 11,
   "id": "b855c675-cd1b-4a5a-bcb1-370cc31cdef3",
   "metadata": {},
   "outputs": [],
   "source": [
    "# drop the column for high cardinality\n",
    "df.drop(columns=\"child_put_breast\", inplace=True)"
   ]
  },
  {
   "cell_type": "markdown",
   "id": "52f161df-1738-45f3-973f-4040e02de291",
   "metadata": {},
   "source": [
    "Next i'll check for the disribution of age using a Histogram "
   ]
  },
  {
   "cell_type": "code",
   "execution_count": 12,
   "id": "850744e4-fde5-469c-bc1d-a9b51365dcc9",
   "metadata": {},
   "outputs": [
    {
     "data": {
      "image/png": "[encoded data removed]",
      "text/plain": [
       "<Figure size 640x480 with 1 Axes>"
      ]
     },
     "metadata": {},
     "output_type": "display_data"
    }
   ],
   "source": [
    "plt.hist(df[\"age\"])\n",
    "plt.xlabel(\"Age in years \")\n",
    "plt.title(\"Distribution of Age\");"
   ]
  },
  {
   "cell_type": "markdown",
   "id": "bb99e313-c703-4f20-99c8-6e84454d8007",
   "metadata": {},
   "source": [
    "From the the histogram it can be seen that the anemia is predominant amongst the 25-29 year old ."
   ]
  },
  {
   "cell_type": "markdown",
   "id": "06151593-3f71-4695-bc0d-010ea3dc7f20",
   "metadata": {},
   "source": [
    "Next i'll  look out for is multicollinearity, that is, features in our feature matrix that are highly correlated with each other. A good way to detect this is to use a heatmap and investigate the results."
   ]
  },
  {
   "cell_type": "code",
   "execution_count": 13,
   "id": "e2140437-b572-4d29-9067-5cbf2438fa9d",
   "metadata": {},
   "outputs": [
    {
     "data": {
      "image/png": "[encoded data removed]",
      "text/plain": [
       "<Figure size 640x480 with 2 Axes>"
      ]
     },
     "metadata": {},
     "output_type": "display_data"
    }
   ],
   "source": [
    "# Heat map plot\n",
    "corr = df.select_dtypes(\"number\").corr()\n",
    "sns.heatmap(corr);"
   ]
  },
  {
   "cell_type": "markdown",
   "id": "d2afd88c-c426-4c4e-976e-ade35c4cf349",
   "metadata": {},
   "source": [
    "From the results it can be seen that the other features are not correlated with each other."
   ]
  },
  {
   "cell_type": "markdown",
   "id": "9487dfd8-dff6-4140-ab0c-0af855f6edd8",
   "metadata": {},
   "source": [
    "Next ill fill in the null values in my target variable with  the string \"dont know\""
   ]
  },
  {
   "cell_type": "code",
   "execution_count": 17,
   "id": "2128eb1a-7108-4f1c-863e-5ef4b02a9c0c",
   "metadata": {},
   "outputs": [],
   "source": [
    "# Fill NaN values in specified columns with the string \"Dont know\"\n",
    "df['anemia_level_target'] = df['anemia_level_target'].fillna(\"Dont know\")"
   ]
  },
  {
   "cell_type": "markdown",
   "id": "aab38928-af86-42c7-9873-a8c66658577b",
   "metadata": {},
   "source": [
    "Next i'll code the target varible with numerical values."
   ]
  },
  {
   "cell_type": "code",
   "execution_count": 20,
   "id": "c0b9ba89-5905-4574-9d20-003d6dfc5262",
   "metadata": {},
   "outputs": [
    {
     "name": "stdout",
     "output_type": "stream",
     "text": [
      "     age residence educational_level wealth_index  births_5_years  \\\n",
      "0  40-44     Urban            Higher      Richest               1   \n",
      "1  35-39     Urban            Higher      Richest               1   \n",
      "2  25-29     Urban            Higher      Richest               1   \n",
      "3  25-29     Urban         Secondary      Richest               1   \n",
      "4  20-24     Urban         Secondary      Richest               1   \n",
      "\n",
      "   respondent_1st_birth  hemoglobin_altitude_smoking  anemia_level_target  \\\n",
      "0                    22                   114.367235                    0   \n",
      "1                    28                   114.367235                    0   \n",
      "2                    26                   114.367235                    0   \n",
      "3                    25                    95.000000                    1   \n",
      "4                    21                   114.367235                    0   \n",
      "\n",
      "  mosquito_net_owners smokers                       marital_status  \\\n",
      "0                 Yes      No                  Living with partner   \n",
      "1                 Yes      No                              Married   \n",
      "2                  No      No                              Married   \n",
      "3                 Yes      No                              Married   \n",
      "4                 Yes      No  No longer living together/separated   \n",
      "\n",
      "   partner_residence fever_two_weeks  hemoglobin_altitude anemia_level_1  \\\n",
      "0  Staying elsewhere              No           101.270183      Dont know   \n",
      "1    Living with her              No           101.270183      Dont know   \n",
      "2    Living with her              No           101.270183      Dont know   \n",
      "3    Living with her              No           114.000000     Not anemic   \n",
      "4                NaN              No           101.270183      Dont know   \n",
      "\n",
      "  iron_pills  \n",
      "0        Yes  \n",
      "1         No  \n",
      "2         No  \n",
      "3         No  \n",
      "4         No  \n"
     ]
    }
   ],
   "source": [
    "#'Anemia level'  mapping\n",
    "category_mapping = {'Dont know': 0, 'Moderate': 1, 'Mild': 2, 'Not anemic': 3, 'Severe': 4}\n",
    "\n",
    "# Map the categories to numerical values\n",
    "df['anemia_level_target'] = df['anemia_level_target'].map(category_mapping)\n",
    "\n",
    "# Display the updated DataFrame\n",
    "print(df.head())\n"
   ]
  },
  {
   "cell_type": "markdown",
   "id": "9870fa45-2a5a-4079-963a-5cd8031d3dc3",
   "metadata": {},
   "source": [
    "Next i'll treat all other features with null values "
   ]
  },
  {
   "cell_type": "markdown",
   "id": "e09be311-147a-4a7d-87f4-7e72f273cff7",
   "metadata": {},
   "source": [
    "Taking the residing_husband_patner feature into consideration"
   ]
  },
  {
   "cell_type": "code",
   "execution_count": 28,
   "id": "551212b6-22fc-402a-8d8b-11004d42256e",
   "metadata": {},
   "outputs": [],
   "source": [
    "# define a function\n",
    "def replace_nan_with_word(x, word='Staying elsewhere'):\n",
    "    \"\"\"\n",
    "    Replace NaN values in a pandas Series with a specified word.\n",
    "\n",
    "    Parameters:\n",
    "    - x: pandas Series\n",
    "    - word: str, default='Staying elsewhere'\n",
    "    \"\"\"\n",
    "    return x.fillna(word)\n",
    "\n",
    "# Apply the function to replace NaN values in the column\n",
    "df['partner_residence'] = replace_nan_with_word(df['partner_residence'])\n"
   ]
  },
  {
   "cell_type": "markdown",
   "id": "45981141-4df3-4103-ac27-815ff88d797b",
   "metadata": {},
   "source": [
    "Next ill consider the fever_two_weeks and iron_pills  features"
   ]
  },
  {
   "cell_type": "code",
   "execution_count": 35,
   "id": "8cb768f4-3c4d-46e6-928a-c3e56012d9a5",
   "metadata": {},
   "outputs": [],
   "source": [
    "# Fill NaN values in the 'fever_two_weeks' column with the string \"Dont know\"\n",
    "\n",
    "df['fever_two_weeks'] = df['fever_two_weeks'].fillna(\"Dont know\")"
   ]
  },
  {
   "cell_type": "code",
   "execution_count": 37,
   "id": "5dc14384-2db8-49a2-8923-9d4cae2fa8ad",
   "metadata": {},
   "outputs": [],
   "source": [
    "# Fill NaN values in the 'iron_pills' column with the string \"Dont know\"\n",
    "df['iron_pills'] = df['iron_pills'].fillna(\"Dont know\")"
   ]
  },
  {
   "cell_type": "markdown",
   "id": "b46c64a1-cb82-4a39-bf8b-71dd6b3376c0",
   "metadata": {},
   "source": [
    "I'll now update my wrangle function with all the steps taking for exploration and cleaning "
   ]
  },
  {
   "cell_type": "code",
   "execution_count": 38,
   "id": "38825d46-081f-4a89-95cc-a3a9800f2dd1",
   "metadata": {},
   "outputs": [
    {
     "data": {
      "text/html": [
       "<div>\n",
       "<style scoped>\n",
       "    .dataframe tbody tr th:only-of-type {\n",
       "        vertical-align: middle;\n",
       "    }\n",
       "\n",
       "    .dataframe tbody tr th {\n",
       "        vertical-align: top;\n",
       "    }\n",
       "\n",
       "    .dataframe thead th {\n",
       "        text-align: right;\n",
       "    }\n",
       "</style>\n",
       "<table border=\"1\" class=\"dataframe\">\n",
       "  <thead>\n",
       "    <tr style=\"text-align: right;\">\n",
       "      <th></th>\n",
       "      <th>age</th>\n",
       "      <th>residence</th>\n",
       "      <th>educational_level</th>\n",
       "      <th>wealth_index</th>\n",
       "      <th>births_5_years</th>\n",
       "      <th>respondent_1st_birth</th>\n",
       "      <th>hemoglobin_altitude_smoking</th>\n",
       "      <th>anemia_level_target</th>\n",
       "      <th>mosquito_net_owners</th>\n",
       "      <th>smokers</th>\n",
       "      <th>marital_status</th>\n",
       "      <th>partner_residence</th>\n",
       "      <th>fever_two_weeks</th>\n",
       "      <th>hemoglobin_altitude</th>\n",
       "      <th>iron_pills</th>\n",
       "    </tr>\n",
       "  </thead>\n",
       "  <tbody>\n",
       "    <tr>\n",
       "      <th>0</th>\n",
       "      <td>40-44</td>\n",
       "      <td>Urban</td>\n",
       "      <td>Higher</td>\n",
       "      <td>Richest</td>\n",
       "      <td>1</td>\n",
       "      <td>22</td>\n",
       "      <td>114.367235</td>\n",
       "      <td>0</td>\n",
       "      <td>Yes</td>\n",
       "      <td>No</td>\n",
       "      <td>Living with partner</td>\n",
       "      <td>Staying elsewhere</td>\n",
       "      <td>No</td>\n",
       "      <td>101.270183</td>\n",
       "      <td>Yes</td>\n",
       "    </tr>\n",
       "    <tr>\n",
       "      <th>1</th>\n",
       "      <td>35-39</td>\n",
       "      <td>Urban</td>\n",
       "      <td>Higher</td>\n",
       "      <td>Richest</td>\n",
       "      <td>1</td>\n",
       "      <td>28</td>\n",
       "      <td>114.367235</td>\n",
       "      <td>0</td>\n",
       "      <td>Yes</td>\n",
       "      <td>No</td>\n",
       "      <td>Married</td>\n",
       "      <td>Living with her</td>\n",
       "      <td>No</td>\n",
       "      <td>101.270183</td>\n",
       "      <td>No</td>\n",
       "    </tr>\n",
       "    <tr>\n",
       "      <th>2</th>\n",
       "      <td>25-29</td>\n",
       "      <td>Urban</td>\n",
       "      <td>Higher</td>\n",
       "      <td>Richest</td>\n",
       "      <td>1</td>\n",
       "      <td>26</td>\n",
       "      <td>114.367235</td>\n",
       "      <td>0</td>\n",
       "      <td>No</td>\n",
       "      <td>No</td>\n",
       "      <td>Married</td>\n",
       "      <td>Living with her</td>\n",
       "      <td>No</td>\n",
       "      <td>101.270183</td>\n",
       "      <td>No</td>\n",
       "    </tr>\n",
       "    <tr>\n",
       "      <th>3</th>\n",
       "      <td>25-29</td>\n",
       "      <td>Urban</td>\n",
       "      <td>Secondary</td>\n",
       "      <td>Richest</td>\n",
       "      <td>1</td>\n",
       "      <td>25</td>\n",
       "      <td>95.000000</td>\n",
       "      <td>1</td>\n",
       "      <td>Yes</td>\n",
       "      <td>No</td>\n",
       "      <td>Married</td>\n",
       "      <td>Living with her</td>\n",
       "      <td>No</td>\n",
       "      <td>114.000000</td>\n",
       "      <td>No</td>\n",
       "    </tr>\n",
       "    <tr>\n",
       "      <th>4</th>\n",
       "      <td>20-24</td>\n",
       "      <td>Urban</td>\n",
       "      <td>Secondary</td>\n",
       "      <td>Richest</td>\n",
       "      <td>1</td>\n",
       "      <td>21</td>\n",
       "      <td>114.367235</td>\n",
       "      <td>0</td>\n",
       "      <td>Yes</td>\n",
       "      <td>No</td>\n",
       "      <td>No longer living together/separated</td>\n",
       "      <td>Staying elsewhere</td>\n",
       "      <td>No</td>\n",
       "      <td>101.270183</td>\n",
       "      <td>No</td>\n",
       "    </tr>\n",
       "    <tr>\n",
       "      <th>5</th>\n",
       "      <td>30-34</td>\n",
       "      <td>Urban</td>\n",
       "      <td>Higher</td>\n",
       "      <td>Richest</td>\n",
       "      <td>1</td>\n",
       "      <td>30</td>\n",
       "      <td>113.000000</td>\n",
       "      <td>2</td>\n",
       "      <td>Yes</td>\n",
       "      <td>No</td>\n",
       "      <td>Married</td>\n",
       "      <td>Living with her</td>\n",
       "      <td>No</td>\n",
       "      <td>119.000000</td>\n",
       "      <td>No</td>\n",
       "    </tr>\n",
       "    <tr>\n",
       "      <th>6</th>\n",
       "      <td>35-39</td>\n",
       "      <td>Urban</td>\n",
       "      <td>Secondary</td>\n",
       "      <td>Richest</td>\n",
       "      <td>2</td>\n",
       "      <td>32</td>\n",
       "      <td>121.000000</td>\n",
       "      <td>3</td>\n",
       "      <td>Yes</td>\n",
       "      <td>No</td>\n",
       "      <td>Married</td>\n",
       "      <td>Living with her</td>\n",
       "      <td>No</td>\n",
       "      <td>102.000000</td>\n",
       "      <td>Yes</td>\n",
       "    </tr>\n",
       "    <tr>\n",
       "      <th>7</th>\n",
       "      <td>35-39</td>\n",
       "      <td>Urban</td>\n",
       "      <td>Secondary</td>\n",
       "      <td>Richest</td>\n",
       "      <td>2</td>\n",
       "      <td>32</td>\n",
       "      <td>121.000000</td>\n",
       "      <td>3</td>\n",
       "      <td>Yes</td>\n",
       "      <td>No</td>\n",
       "      <td>Married</td>\n",
       "      <td>Living with her</td>\n",
       "      <td>Dont know</td>\n",
       "      <td>101.270183</td>\n",
       "      <td>Dont know</td>\n",
       "    </tr>\n",
       "    <tr>\n",
       "      <th>8</th>\n",
       "      <td>30-34</td>\n",
       "      <td>Urban</td>\n",
       "      <td>Secondary</td>\n",
       "      <td>Richest</td>\n",
       "      <td>1</td>\n",
       "      <td>32</td>\n",
       "      <td>114.367235</td>\n",
       "      <td>0</td>\n",
       "      <td>Yes</td>\n",
       "      <td>No</td>\n",
       "      <td>Married</td>\n",
       "      <td>Living with her</td>\n",
       "      <td>No</td>\n",
       "      <td>101.270183</td>\n",
       "      <td>No</td>\n",
       "    </tr>\n",
       "    <tr>\n",
       "      <th>9</th>\n",
       "      <td>20-24</td>\n",
       "      <td>Urban</td>\n",
       "      <td>Secondary</td>\n",
       "      <td>Richest</td>\n",
       "      <td>1</td>\n",
       "      <td>19</td>\n",
       "      <td>108.000000</td>\n",
       "      <td>1</td>\n",
       "      <td>Yes</td>\n",
       "      <td>No</td>\n",
       "      <td>Married</td>\n",
       "      <td>Living with her</td>\n",
       "      <td>No</td>\n",
       "      <td>113.000000</td>\n",
       "      <td>Yes</td>\n",
       "    </tr>\n",
       "  </tbody>\n",
       "</table>\n",
       "</div>"
      ],
      "text/plain": [
       "     age residence educational_level wealth_index  births_5_years  \\\n",
       "0  40-44     Urban            Higher      Richest               1   \n",
       "1  35-39     Urban            Higher      Richest               1   \n",
       "2  25-29     Urban            Higher      Richest               1   \n",
       "3  25-29     Urban         Secondary      Richest               1   \n",
       "4  20-24     Urban         Secondary      Richest               1   \n",
       "5  30-34     Urban            Higher      Richest               1   \n",
       "6  35-39     Urban         Secondary      Richest               2   \n",
       "7  35-39     Urban         Secondary      Richest               2   \n",
       "8  30-34     Urban         Secondary      Richest               1   \n",
       "9  20-24     Urban         Secondary      Richest               1   \n",
       "\n",
       "   respondent_1st_birth  hemoglobin_altitude_smoking  anemia_level_target  \\\n",
       "0                    22                   114.367235                    0   \n",
       "1                    28                   114.367235                    0   \n",
       "2                    26                   114.367235                    0   \n",
       "3                    25                    95.000000                    1   \n",
       "4                    21                   114.367235                    0   \n",
       "5                    30                   113.000000                    2   \n",
       "6                    32                   121.000000                    3   \n",
       "7                    32                   121.000000                    3   \n",
       "8                    32                   114.367235                    0   \n",
       "9                    19                   108.000000                    1   \n",
       "\n",
       "  mosquito_net_owners smokers                       marital_status  \\\n",
       "0                 Yes      No                  Living with partner   \n",
       "1                 Yes      No                              Married   \n",
       "2                  No      No                              Married   \n",
       "3                 Yes      No                              Married   \n",
       "4                 Yes      No  No longer living together/separated   \n",
       "5                 Yes      No                              Married   \n",
       "6                 Yes      No                              Married   \n",
       "7                 Yes      No                              Married   \n",
       "8                 Yes      No                              Married   \n",
       "9                 Yes      No                              Married   \n",
       "\n",
       "   partner_residence fever_two_weeks  hemoglobin_altitude iron_pills  \n",
       "0  Staying elsewhere              No           101.270183        Yes  \n",
       "1    Living with her              No           101.270183         No  \n",
       "2    Living with her              No           101.270183         No  \n",
       "3    Living with her              No           114.000000         No  \n",
       "4  Staying elsewhere              No           101.270183         No  \n",
       "5    Living with her              No           119.000000         No  \n",
       "6    Living with her              No           102.000000        Yes  \n",
       "7    Living with her       Dont know           101.270183  Dont know  \n",
       "8    Living with her              No           101.270183         No  \n",
       "9    Living with her              No           113.000000        Yes  "
      ]
     },
     "execution_count": 38,
     "metadata": {},
     "output_type": "execute_result"
    }
   ],
   "source": [
    "# inspect the data frame \n",
    "df.head(10)"
   ]
  }
 ],
 "metadata": {
  "kernelspec": {
   "display_name": "Python 3",
   "language": "python",
   "name": "python3"
  },
  "language_info": {
   "codemirror_mode": {
    "name": "ipython",
    "version": 3
   },
   "file_extension": ".py",
   "mimetype": "text/x-python",
   "name": "python",
   "nbconvert_exporter": "python",
   "pygments_lexer": "ipython3",
   "version": "3.8.16"
  }
 },
 "nbformat": 4,
 "nbformat_minor": 5
}
