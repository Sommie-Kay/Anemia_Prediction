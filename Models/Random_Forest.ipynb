{
 "cells": [
  {
   "cell_type": "markdown",
   "id": "53c3b92b-0a76-451f-8a07-d11bbc1cbb14",
   "metadata": {},
   "source": [
    "# Random Forest"
   ]
  },
  {
   "cell_type": "markdown",
   "id": "e1420673-fe8c-46e6-99e2-83c65ce376ba",
   "metadata": {},
   "source": [
    "## Imort Libraries"
   ]
  },
  {
   "cell_type": "code",
   "execution_count": 32,
   "id": "0eb0c80c-0a2d-4586-9bd4-97fe4d4b8d44",
   "metadata": {},
   "outputs": [],
   "source": [
    "import matplotlib.pyplot as plt\n",
    "import pandas as pd\n",
    "from sklearn.ensemble import RandomForestClassifier\n",
    "from sklearn.impute import SimpleImputer\n",
    "from sklearn.compose import ColumnTransformer\n",
    "from sklearn.pipeline import Pipeline\n",
    "from sklearn.preprocessing import OneHotEncoder\n",
    "from sklearn.metrics import (\n",
    "    ConfusionMatrixDisplay,\n",
    "    classification_report,\n",
    "    confusion_matrix,\n",
    ")\n",
    "from sklearn.model_selection import GridSearchCV, cross_val_score, train_test_split\n",
    "from sklearn.pipeline import make_pipeline\n",
    "import warnings\n",
    "from sklearn.exceptions import UndefinedMetricWarning"
   ]
  },
  {
   "cell_type": "markdown",
   "id": "9a488568-9615-46a0-9da5-dd77b5ff1a33",
   "metadata": {},
   "source": [
    "I'll bring back my wrangle function from the data exploration phase"
   ]
  },
  {
   "cell_type": "code",
   "execution_count": 3,
   "id": "aefdbd83-c91c-4584-8be2-9f0aa46fcca8",
   "metadata": {},
   "outputs": [],
   "source": [
    "def wrangle(filepath):\n",
    "    # read csv into DataFrame\n",
    "    df = pd.read_csv(filepath)\n",
    "    \n",
    "    # Rename columns for better clarity and to facilitate analysis\n",
    "    df.rename(columns={'Age in 5-year groups': 'age',\n",
    "                       'Type of place of residence': 'residence',\n",
    "                       'Highest educational level': 'educational_level',\n",
    "                       'Wealth index combined': 'wealth_index',\n",
    "                       'Births in last five years': 'births_5_years',\n",
    "                       'Age of respondent at 1st birth': 'respondent_1st_birth',\n",
    "                       'Hemoglobin level adjusted for altitude and smoking (g/dl - 1 decimal)': 'hemoglobin_altitude_smoking',\n",
    "                       'Anemia level': 'anemia_level_target',\n",
    "                       'Have mosquito bed net for sleeping (from household questionnaire)': 'mosquito_net_owners',\n",
    "                       'Smokes cigarettes': 'smokers',\n",
    "                       'Current marital status': 'marital_status',\n",
    "                       'Currently residing with husband/partner': 'partner_residence',\n",
    "                       'When child put to breast': 'child_put_breast',\n",
    "                       'Had fever in last two weeks': 'fever_two_weeks',\n",
    "                       'Hemoglobin level adjusted for altitude (g/dl - 1 decimal)': 'hemoglobin_altitude',\n",
    "                       'Anemia level.1': 'anemia_level_1',\n",
    "                       'Taking iron pills, sprinkles or syrup': 'iron_pills'}, inplace=True)\n",
    "    \n",
    "    # drop collumn with 50% null values .\n",
    "    df.drop(columns=\"anemia_level_1\" , inplace = True)\n",
    "    \n",
    "    # List of columns to impute\n",
    "    columns_to_impute = ['hemoglobin_altitude_smoking','hemoglobin_altitude']\n",
    "\n",
    "    # Convert relevant columns to numeric before imputing\n",
    "    numeric_columns = columns_to_impute\n",
    "    for column in numeric_columns:\n",
    "        df[column] = pd.to_numeric(df[column], errors='coerce')\n",
    "\n",
    "    # Impute missing values with mean\n",
    "    for column in columns_to_impute:\n",
    "        mean_value = df[column].mean()\n",
    "        df[column].fillna(mean_value, inplace=True)\n",
    "        \n",
    "    # drop the column for high cardinality\n",
    "    df.drop(columns=\"child_put_breast\", inplace=True)  \n",
    "    \n",
    "    # Fill NaN values in specified columns with the string \"Dont know\"\n",
    "    df['anemia_level_target'] = df['anemia_level_target'].fillna(\"Dont know\") \n",
    "    \n",
    "    #'Anemia level'  mapping\n",
    "    category_mapping = {'Dont know': 0, 'Moderate': 1, 'Mild': 2, 'Not anemic': 3, 'Severe': 4}\n",
    "\n",
    "    # Map the categories to numerical values\n",
    "    df['anemia_level_target'] = df['anemia_level_target'].map(category_mapping)\n",
    "    \n",
    "    \n",
    "    # define a function\n",
    "    def replace_nan_with_word(x, word='Staying elsewhere'):\n",
    "        \"\"\"\n",
    "        Replace NaN values in a pandas Series with a specified word.\n",
    "\n",
    "        Parameters:\n",
    "        - x: pandas Series\n",
    "        - word: str, default='Staying elsewhere'\n",
    "        \"\"\"\n",
    "        return x.fillna(word)\n",
    "\n",
    "    # Apply the function to replace NaN values in the column\n",
    "    df['partner_residence'] = replace_nan_with_word(df['partner_residence'])\n",
    "\n",
    "    # Fill NaN values in the 'fever_two_weeks' column with the string \"Dont know\"\n",
    "    df['fever_two_weeks'] = df['fever_two_weeks'].fillna(\"Dont know\")\n",
    "    \n",
    "    # Fill NaN values in the 'iron_pills' column with the string \"Dont know\"\n",
    "    df['iron_pills'] = df['iron_pills'].fillna(\"Dont know\")\n",
    "    \n",
    "\n",
    "    return df"
   ]
  },
  {
   "cell_type": "code",
   "execution_count": 7,
   "id": "2b54a5b2-0962-483a-b197-df44ee4e0998",
   "metadata": {},
   "outputs": [
    {
     "data": {
      "text/html": [
       "<div>\n",
       "<style scoped>\n",
       "    .dataframe tbody tr th:only-of-type {\n",
       "        vertical-align: middle;\n",
       "    }\n",
       "\n",
       "    .dataframe tbody tr th {\n",
       "        vertical-align: top;\n",
       "    }\n",
       "\n",
       "    .dataframe thead th {\n",
       "        text-align: right;\n",
       "    }\n",
       "</style>\n",
       "<table border=\"1\" class=\"dataframe\">\n",
       "  <thead>\n",
       "    <tr style=\"text-align: right;\">\n",
       "      <th></th>\n",
       "      <th>age</th>\n",
       "      <th>residence</th>\n",
       "      <th>educational_level</th>\n",
       "      <th>wealth_index</th>\n",
       "      <th>births_5_years</th>\n",
       "      <th>respondent_1st_birth</th>\n",
       "      <th>hemoglobin_altitude_smoking</th>\n",
       "      <th>anemia_level_target</th>\n",
       "      <th>mosquito_net_owners</th>\n",
       "      <th>smokers</th>\n",
       "      <th>marital_status</th>\n",
       "      <th>partner_residence</th>\n",
       "      <th>fever_two_weeks</th>\n",
       "      <th>hemoglobin_altitude</th>\n",
       "      <th>iron_pills</th>\n",
       "    </tr>\n",
       "  </thead>\n",
       "  <tbody>\n",
       "    <tr>\n",
       "      <th>0</th>\n",
       "      <td>40-44</td>\n",
       "      <td>Urban</td>\n",
       "      <td>Higher</td>\n",
       "      <td>Richest</td>\n",
       "      <td>1</td>\n",
       "      <td>22</td>\n",
       "      <td>114.367235</td>\n",
       "      <td>0</td>\n",
       "      <td>Yes</td>\n",
       "      <td>No</td>\n",
       "      <td>Living with partner</td>\n",
       "      <td>Staying elsewhere</td>\n",
       "      <td>No</td>\n",
       "      <td>101.270183</td>\n",
       "      <td>Yes</td>\n",
       "    </tr>\n",
       "    <tr>\n",
       "      <th>1</th>\n",
       "      <td>35-39</td>\n",
       "      <td>Urban</td>\n",
       "      <td>Higher</td>\n",
       "      <td>Richest</td>\n",
       "      <td>1</td>\n",
       "      <td>28</td>\n",
       "      <td>114.367235</td>\n",
       "      <td>0</td>\n",
       "      <td>Yes</td>\n",
       "      <td>No</td>\n",
       "      <td>Married</td>\n",
       "      <td>Living with her</td>\n",
       "      <td>No</td>\n",
       "      <td>101.270183</td>\n",
       "      <td>No</td>\n",
       "    </tr>\n",
       "    <tr>\n",
       "      <th>2</th>\n",
       "      <td>25-29</td>\n",
       "      <td>Urban</td>\n",
       "      <td>Higher</td>\n",
       "      <td>Richest</td>\n",
       "      <td>1</td>\n",
       "      <td>26</td>\n",
       "      <td>114.367235</td>\n",
       "      <td>0</td>\n",
       "      <td>No</td>\n",
       "      <td>No</td>\n",
       "      <td>Married</td>\n",
       "      <td>Living with her</td>\n",
       "      <td>No</td>\n",
       "      <td>101.270183</td>\n",
       "      <td>No</td>\n",
       "    </tr>\n",
       "    <tr>\n",
       "      <th>3</th>\n",
       "      <td>25-29</td>\n",
       "      <td>Urban</td>\n",
       "      <td>Secondary</td>\n",
       "      <td>Richest</td>\n",
       "      <td>1</td>\n",
       "      <td>25</td>\n",
       "      <td>95.000000</td>\n",
       "      <td>1</td>\n",
       "      <td>Yes</td>\n",
       "      <td>No</td>\n",
       "      <td>Married</td>\n",
       "      <td>Living with her</td>\n",
       "      <td>No</td>\n",
       "      <td>114.000000</td>\n",
       "      <td>No</td>\n",
       "    </tr>\n",
       "    <tr>\n",
       "      <th>4</th>\n",
       "      <td>20-24</td>\n",
       "      <td>Urban</td>\n",
       "      <td>Secondary</td>\n",
       "      <td>Richest</td>\n",
       "      <td>1</td>\n",
       "      <td>21</td>\n",
       "      <td>114.367235</td>\n",
       "      <td>0</td>\n",
       "      <td>Yes</td>\n",
       "      <td>No</td>\n",
       "      <td>No longer living together/separated</td>\n",
       "      <td>Staying elsewhere</td>\n",
       "      <td>No</td>\n",
       "      <td>101.270183</td>\n",
       "      <td>No</td>\n",
       "    </tr>\n",
       "  </tbody>\n",
       "</table>\n",
       "</div>"
      ],
      "text/plain": [
       "     age residence educational_level wealth_index  births_5_years  \\\n",
       "0  40-44     Urban            Higher      Richest               1   \n",
       "1  35-39     Urban            Higher      Richest               1   \n",
       "2  25-29     Urban            Higher      Richest               1   \n",
       "3  25-29     Urban         Secondary      Richest               1   \n",
       "4  20-24     Urban         Secondary      Richest               1   \n",
       "\n",
       "   respondent_1st_birth  hemoglobin_altitude_smoking  anemia_level_target  \\\n",
       "0                    22                   114.367235                    0   \n",
       "1                    28                   114.367235                    0   \n",
       "2                    26                   114.367235                    0   \n",
       "3                    25                    95.000000                    1   \n",
       "4                    21                   114.367235                    0   \n",
       "\n",
       "  mosquito_net_owners smokers                       marital_status  \\\n",
       "0                 Yes      No                  Living with partner   \n",
       "1                 Yes      No                              Married   \n",
       "2                  No      No                              Married   \n",
       "3                 Yes      No                              Married   \n",
       "4                 Yes      No  No longer living together/separated   \n",
       "\n",
       "   partner_residence fever_two_weeks  hemoglobin_altitude iron_pills  \n",
       "0  Staying elsewhere              No           101.270183        Yes  \n",
       "1    Living with her              No           101.270183         No  \n",
       "2    Living with her              No           101.270183         No  \n",
       "3    Living with her              No           114.000000         No  \n",
       "4  Staying elsewhere              No           101.270183         No  "
      ]
     },
     "execution_count": 7,
     "metadata": {},
     "output_type": "execute_result"
    }
   ],
   "source": [
    "df = wrangle(\"children anemia.csv\")\n",
    "df.head()"
   ]
  },
  {
   "cell_type": "markdown",
   "id": "7c36ea3a-17cd-4385-b844-5d50796b8665",
   "metadata": {},
   "source": [
    "## Split"
   ]
  },
  {
   "cell_type": "markdown",
   "id": "bec09211-103f-49b3-bdce-c0af2aa006fc",
   "metadata": {},
   "source": [
    "I'll Create my feature matrix X and target vector y. My target is \"anemia_level_target\""
   ]
  },
  {
   "cell_type": "code",
   "execution_count": 5,
   "id": "2f78d948-de16-47a6-870c-3109a5549e0e",
   "metadata": {},
   "outputs": [],
   "source": [
    "# create feature and target .\n",
    "target = \"anemia_level_target\"\n",
    "X = df.drop(columns=target)\n",
    "y = df[target]"
   ]
  },
  {
   "cell_type": "markdown",
   "id": "9bf8bdc6-4f47-4775-9ce4-f3a6d9157b17",
   "metadata": {},
   "source": [
    "I'll now use a randomized train-test split to divide my data (X and Y) into training and test sets. 20% of my entire data are in my test set. Next, to ensure reproducibility, I'll set a random state."
   ]
  },
  {
   "cell_type": "code",
   "execution_count": 6,
   "id": "e86f6ccd-0d3b-41be-a37c-eab72e0b6b2f",
   "metadata": {},
   "outputs": [
    {
     "name": "stdout",
     "output_type": "stream",
     "text": [
      "X_train shape: (27139, 14)\n",
      "y_train shape: (27139,)\n",
      "X_test shape: (6785, 14)\n",
      "y_test shape: (6785,)\n"
     ]
    }
   ],
   "source": [
    "X_train, X_test, y_train, y_test = train_test_split(\n",
    "X, y,test_size=0.2, random_state=42\n",
    ")\n",
    "\n",
    "print(\"X_train shape:\", X_train.shape)\n",
    "print(\"y_train shape:\", y_train.shape)\n",
    "print(\"X_test shape:\", X_test.shape)\n",
    "print(\"y_test shape:\", y_test.shape)"
   ]
  },
  {
   "cell_type": "markdown",
   "id": "f4d18f0c-d452-4741-bf3f-0362c3ba706e",
   "metadata": {},
   "source": [
    "## Build Model"
   ]
  },
  {
   "cell_type": "markdown",
   "id": "fb6fa56c-eb0f-4d85-aea2-bdd21b025cb6",
   "metadata": {},
   "source": [
    "### Baseline"
   ]
  },
  {
   "cell_type": "code",
   "execution_count": 8,
   "id": "e3e35d85-15a3-45b2-91c6-9eea6f1c45ce",
   "metadata": {},
   "outputs": [
    {
     "name": "stdout",
     "output_type": "stream",
     "text": [
      "Baseline Accuracy: 0.61\n"
     ]
    }
   ],
   "source": [
    "acc_baseline = y_train.value_counts(normalize=True).max()\n",
    "print(\"Baseline Accuracy:\", round(acc_baseline, 2))"
   ]
  },
  {
   "cell_type": "markdown",
   "id": "e189e4a0-40b8-4080-9f81-37579b323db9",
   "metadata": {},
   "source": [
    "Now I'll Create a pipeline named clf (short for \"classifier\") that contains a RandomForestClassifier predictor"
   ]
  },
  {
   "cell_type": "code",
   "execution_count": 9,
   "id": "9ab70a29-ddd4-4f62-88fc-86a2103d3679",
   "metadata": {},
   "outputs": [
    {
     "name": "stdout",
     "output_type": "stream",
     "text": [
      "RandomForestClassifier(random_state=42)\n"
     ]
    }
   ],
   "source": [
    "clf = RandomForestClassifier(random_state=42)\n",
    "print(clf)"
   ]
  },
  {
   "cell_type": "markdown",
   "id": "b286f0c1-762a-4ef7-94d2-6fbfbcbc0d7a",
   "metadata": {},
   "source": [
    "Next, I am going to tune some of the hyperparameters for my model."
   ]
  },
  {
   "cell_type": "code",
   "execution_count": 10,
   "id": "e55a00bc-1ed3-417f-9b8f-fc23373eb5c5",
   "metadata": {},
   "outputs": [
    {
     "data": {
      "text/plain": [
       "{'n_estimators': range(20, 31, 5), 'max_depth': range(2, 5)}"
      ]
     },
     "execution_count": 10,
     "metadata": {},
     "output_type": "execute_result"
    }
   ],
   "source": [
    "# Create a dictionary with the range of hyperparameters that we want to evaluate for our classifier\n",
    "params = {\n",
    "    \"n_estimators\": range(20,31,5),\n",
    "    \"max_depth\":  range(2,5)\n",
    "}\n",
    "params"
   ]
  },
  {
   "cell_type": "markdown",
   "id": "3046bda8-952a-42dd-a233-88f8bc1e2a98",
   "metadata": {},
   "source": [
    "Next I'll Create a GridSearchCV named model that includes my classifier and hyperparameter grid."
   ]
  },
  {
   "cell_type": "code",
   "execution_count": 13,
   "id": "ab709f2d-1286-474b-ac71-7656841e4d10",
   "metadata": {},
   "outputs": [],
   "source": [
    "# Identify categorical columns\n",
    "categorical_columns = X_train.select_dtypes(include=['object']).columns\n",
    "\n",
    "# Create a column transformer for automatic one-hot encoding\n",
    "preprocessor = ColumnTransformer(\n",
    "    transformers=[\n",
    "        ('cat', OneHotEncoder(handle_unknown='ignore'), categorical_columns),\n",
    "        ('num', SimpleImputer(strategy='mean'), X_train.columns.difference(categorical_columns))\n",
    "    ],\n",
    "    remainder='passthrough'  \n",
    ")\n",
    "\n",
    "# Create a pipeline with preprocessing and the classifier\n",
    "pipeline = Pipeline([\n",
    "    ('preprocessor', preprocessor),\n",
    "    ('classifier', RandomForestClassifier(random_state=42))\n",
    "])\n",
    "\n",
    "# Define the parameter grid for grid search\n",
    "params = {\n",
    "    'classifier__max_depth': range(2, 5),\n",
    "    'classifier__n_estimators': range(20, 31, 5)\n",
    "}\n",
    "\n",
    "# Create the GridSearchCV object\n",
    "model = GridSearchCV(\n",
    "    pipeline,\n",
    "    param_grid=params,\n",
    "    cv=5,\n",
    "    n_jobs=-1,\n",
    "    verbose=1\n",
    ")\n"
   ]
  },
  {
   "cell_type": "markdown",
   "id": "2a1f7ed1-da14-4111-a61f-31dcc1bc1554",
   "metadata": {},
   "source": [
    "Now i'll fit the model to my data"
   ]
  },
  {
   "cell_type": "code",
   "execution_count": 14,
   "id": "6978d43d-acc8-4faa-84cf-57a55771e85f",
   "metadata": {},
   "outputs": [
    {
     "name": "stdout",
     "output_type": "stream",
     "text": [
      "Fitting 5 folds for each of 9 candidates, totalling 45 fits\n"
     ]
    },
    {
     "data": {
      "text/plain": [
       "GridSearchCV(cv=5,\n",
       "             estimator=Pipeline(steps=[('preprocessor',\n",
       "                                        ColumnTransformer(remainder='passthrough',\n",
       "                                                          transformers=[('cat',\n",
       "                                                                         OneHotEncoder(handle_unknown='ignore'),\n",
       "                                                                         Index(['age', 'residence', 'educational_level', 'wealth_index',\n",
       "       'mosquito_net_owners', 'smokers', 'marital_status', 'partner_residence',\n",
       "       'fever_two_weeks', 'iron_pills'],\n",
       "      dtype='object')),\n",
       "                                                                        ('num',\n",
       "                                                                         SimpleImputer(),\n",
       "                                                                         Index(['births_5_years', 'hemoglobin_altitude', 'hemoglobin_altitude_smoking',\n",
       "       'respondent_1st_birth'],\n",
       "      dtype='object'))])),\n",
       "                                       ('classifier',\n",
       "                                        RandomForestClassifier(random_state=42))]),\n",
       "             n_jobs=-1,\n",
       "             param_grid={'classifier__max_depth': range(2, 5),\n",
       "                         'classifier__n_estimators': range(20, 31, 5)},\n",
       "             verbose=1)"
      ]
     },
     "execution_count": 14,
     "metadata": {},
     "output_type": "execute_result"
    }
   ],
   "source": [
    "# Fit model to over-sampled training data\n",
    "model.fit(X_train,y_train)"
   ]
  },
  {
   "cell_type": "markdown",
   "id": "5938d803-3d1b-4744-b739-132cbaf77957",
   "metadata": {},
   "source": [
    "Inspect the hyperparameters that led to the best performance."
   ]
  },
  {
   "cell_type": "code",
   "execution_count": 15,
   "id": "8b358e32-da3c-439c-8db6-0130641c45e7",
   "metadata": {},
   "outputs": [
    {
     "name": "stdout",
     "output_type": "stream",
     "text": [
      " the best model paramters is : {'classifier__max_depth': 4, 'classifier__n_estimators': 20}\n",
      " the model best score is : 0.7492905909058382\n"
     ]
    }
   ],
   "source": [
    "# Extract best hyperparameters\n",
    "best_model_par = model.best_params_\n",
    "model_best_score = model.best_score_\n",
    "\n",
    "print(f\" the best model paramters is : {best_model_par}\")\n",
    "print(f\" the model best score is : {model_best_score}\")"
   ]
  },
  {
   "cell_type": "markdown",
   "id": "84fef5cb-d3fd-493a-a62d-3747cd108245",
   "metadata": {},
   "source": [
    "## Evaluate"
   ]
  },
  {
   "cell_type": "code",
   "execution_count": 18,
   "id": "c90204d1-16f2-4e29-9036-5ddfc7190cf2",
   "metadata": {},
   "outputs": [
    {
     "name": "stdout",
     "output_type": "stream",
     "text": [
      "Training Accuracy: 0.7337\n",
      "Validation Accuracy: 0.725\n"
     ]
    }
   ],
   "source": [
    "# Calculate the accuracy score for my model \n",
    "acc_train =  model.score(X_train,y_train)\n",
    "acc_test = model.score(X_test,y_test)\n",
    "\n",
    "print(\"Training Accuracy:\", round(acc_train, 4))\n",
    "print(\"Validation Accuracy:\", round(acc_test, 4))"
   ]
  },
  {
   "cell_type": "markdown",
   "id": "0e0d4587-8511-4820-9b79-e5b2c0cebb63",
   "metadata": {},
   "source": [
    "I'll create a confusion matrix to see how my model is making its correct and incorrect predictions."
   ]
  },
  {
   "cell_type": "code",
   "execution_count": 19,
   "id": "67927bdf-eacb-476f-a10b-f0e72e8b10b1",
   "metadata": {},
   "outputs": [
    {
     "data": {
      "image/png": "[encoded data removed]",
      "text/plain": [
       "<Figure size 640x480 with 2 Axes>"
      ]
     },
     "metadata": {},
     "output_type": "display_data"
    }
   ],
   "source": [
    "# Plot confusion matrix\n",
    "ConfusionMatrixDisplay.from_estimator(model,X_test,y_test);"
   ]
  },
  {
   "cell_type": "markdown",
   "id": "19ca0f6d-9808-456e-b28d-262ca7d1e216",
   "metadata": {},
   "source": [
    "Next I'll Print the classification report for my model, using the test set."
   ]
  },
  {
   "cell_type": "code",
   "execution_count": 35,
   "id": "eeda9e1f-2d16-498d-9cf3-a5b85a719a7b",
   "metadata": {},
   "outputs": [
    {
     "name": "stdout",
     "output_type": "stream",
     "text": [
      "              precision    recall  f1-score   support\n",
      "\n",
      "           0       0.70      1.00      0.82      4140\n",
      "           1       0.65      0.14      0.23       814\n",
      "           2       0.00      0.00      0.00       739\n",
      "           3       0.99      0.63      0.77      1054\n",
      "           4       0.00      0.00      0.00        38\n",
      "\n",
      "    accuracy                           0.72      6785\n",
      "   macro avg       0.47      0.35      0.36      6785\n",
      "weighted avg       0.66      0.72      0.65      6785\n",
      "\n"
     ]
    }
   ],
   "source": [
    "with warnings.catch_warnings():\n",
    "    warnings.filterwarnings(\"ignore\", category=UndefinedMetricWarning)\n",
    "    \n",
    "    # Print classification report\n",
    "    print(classification_report(y_test, model.predict(X_test)))"
   ]
  },
  {
   "cell_type": "code",
   "execution_count": null,
   "id": "664da547-d975-404c-87b6-9c1e8d23357b",
   "metadata": {},
   "outputs": [],
   "source": []
  }
 ],
 "metadata": {
  "kernelspec": {
   "display_name": "Python 3",
   "language": "python",
   "name": "python3"
  },
  "language_info": {
   "codemirror_mode": {
    "name": "ipython",
    "version": 3
   },
   "file_extension": ".py",
   "mimetype": "text/x-python",
   "name": "python",
   "nbconvert_exporter": "python",
   "pygments_lexer": "ipython3",
   "version": "3.8.16"
  }
 },
 "nbformat": 4,
 "nbformat_minor": 5
}
