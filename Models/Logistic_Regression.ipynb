{
 "cells": [
  {
   "cell_type": "markdown",
   "id": "c968ae92-2d51-4af1-b7a0-b8412c2d9c0c",
   "metadata": {},
   "source": [
    "# LOGISTIC REGRESSION"
   ]
  },
  {
   "cell_type": "markdown",
   "id": "65145cdf-fd0b-4642-a004-f71623e6623b",
   "metadata": {},
   "source": [
    "## Import Libraries "
   ]
  },
  {
   "cell_type": "code",
   "execution_count": 23,
   "id": "933cc0ba-4fbb-4318-9044-600ef3e47503",
   "metadata": {},
   "outputs": [],
   "source": [
    "import pandas as pd\n",
    "import numpy as np\n",
    "import matplotlib.pyplot as plt\n",
    "import seaborn as sns\n",
    "from sklearn.preprocessing import LabelEncoder\n",
    "from sklearn.model_selection import train_test_split\n",
    "from sklearn.preprocessing import StandardScaler\n",
    "from sklearn.pipeline import make_pipeline\n",
    "from sklearn.preprocessing import OneHotEncoder\n",
    "from sklearn.compose import ColumnTransformer\n",
    "from sklearn.metrics import confusion_matrix\n",
    "import seaborn as sns\n",
    "import matplotlib.pyplot as plt\n",
    "from sklearn.metrics import accuracy_score\n",
    "from sklearn.impute import SimpleImputer\n",
    "from sklearn.linear_model import LogisticRegression\n",
    "from sklearn.metrics import mean_absolute_error, mean_squared_error, r2_score\n",
    "from sklearn.tree import DecisionTreeClassifier\n",
    "from sklearn.metrics import classification_report\n",
    "from sklearn.ensemble import RandomForestClassifier, ExtraTreesClassifier, GradientBoostingClassifier\n",
    "from xgboost import XGBRegressor\n",
    "import xgboost as xgb\n",
    "from sklearn.model_selection import GridSearchCV\n",
    "from sklearn.metrics import roc_curve, auc\n",
    "import warnings"
   ]
  },
  {
   "cell_type": "markdown",
   "id": "c345925c-dd1c-4b9c-89eb-c7e20fe14b4f",
   "metadata": {},
   "source": [
    "## Import"
   ]
  },
  {
   "cell_type": "markdown",
   "id": "f5879a8b-e6a3-4326-958c-2da4fe0ac966",
   "metadata": {},
   "source": [
    "I'll import the wrangle function and prepare and clean the data from the data exploration notebook."
   ]
  },
  {
   "cell_type": "code",
   "execution_count": 2,
   "id": "18ac729e-d741-4d31-9e90-bf70da6f1848",
   "metadata": {},
   "outputs": [],
   "source": [
    "def wrangle(filepath):\n",
    "    # read csv into DataFrame\n",
    "    df = pd.read_csv(filepath)\n",
    "    \n",
    "    # Rename columns for better clarity and to facilitate analysis\n",
    "    df.rename(columns={'Age in 5-year groups': 'age',\n",
    "                       'Type of place of residence': 'residence',\n",
    "                       'Highest educational level': 'educational_level',\n",
    "                       'Wealth index combined': 'wealth_index',\n",
    "                       'Births in last five years': 'births_5_years',\n",
    "                       'Age of respondent at 1st birth': 'respondent_1st_birth',\n",
    "                       'Hemoglobin level adjusted for altitude and smoking (g/dl - 1 decimal)': 'hemoglobin_altitude_smoking',\n",
    "                       'Anemia level': 'anemia_level_target',\n",
    "                       'Have mosquito bed net for sleeping (from household questionnaire)': 'mosquito_net_owners',\n",
    "                       'Smokes cigarettes': 'smokers',\n",
    "                       'Current marital status': 'marital_status',\n",
    "                       'Currently residing with husband/partner': 'partner_residence',\n",
    "                       'When child put to breast': 'child_put_breast',\n",
    "                       'Had fever in last two weeks': 'fever_two_weeks',\n",
    "                       'Hemoglobin level adjusted for altitude (g/dl - 1 decimal)': 'hemoglobin_altitude',\n",
    "                       'Anemia level.1': 'anemia_level_1',\n",
    "                       'Taking iron pills, sprinkles or syrup': 'iron_pills'}, inplace=True)\n",
    "    \n",
    "    # drop collumn with 50% null values .\n",
    "    df.drop(columns=\"anemia_level_1\" , inplace = True)\n",
    "    \n",
    "    # List of columns to impute\n",
    "    columns_to_impute = ['hemoglobin_altitude_smoking','hemoglobin_altitude']\n",
    "\n",
    "    # Convert relevant columns to numeric before imputing\n",
    "    numeric_columns = columns_to_impute\n",
    "    for column in numeric_columns:\n",
    "        df[column] = pd.to_numeric(df[column], errors='coerce')\n",
    "\n",
    "    # Impute missing values with mean\n",
    "    for column in columns_to_impute:\n",
    "        mean_value = df[column].mean()\n",
    "        df[column].fillna(mean_value, inplace=True)\n",
    "        \n",
    "    # drop the column for high cardinality\n",
    "    df.drop(columns=\"child_put_breast\", inplace=True)  \n",
    "    \n",
    "    # Fill NaN values in specified columns with the string \"Dont know\"\n",
    "    df['anemia_level_target'] = df['anemia_level_target'].fillna(\"Dont know\") \n",
    "    \n",
    "    #'Anemia level'  mapping\n",
    "    category_mapping = {'Dont know': 0, 'Moderate': 1, 'Mild': 2, 'Not anemic': 3, 'Severe': 4}\n",
    "\n",
    "    # Map the categories to numerical values\n",
    "    df['anemia_level_target'] = df['anemia_level_target'].map(category_mapping)\n",
    "    \n",
    "    \n",
    "    # define a function\n",
    "    def replace_nan_with_word(x, word='Staying elsewhere'):\n",
    "        \"\"\"\n",
    "        Replace NaN values in a pandas Series with a specified word.\n",
    "\n",
    "        Parameters:\n",
    "        - x: pandas Series\n",
    "        - word: str, default='Staying elsewhere'\n",
    "        \"\"\"\n",
    "        return x.fillna(word)\n",
    "\n",
    "    # Apply the function to replace NaN values in the column\n",
    "    df['partner_residence'] = replace_nan_with_word(df['partner_residence'])\n",
    "\n",
    "    # Fill NaN values in the 'fever_two_weeks' column with the string \"Dont know\"\n",
    "    df['fever_two_weeks'] = df['fever_two_weeks'].fillna(\"Dont know\")\n",
    "    \n",
    "    # Fill NaN values in the 'iron_pills' column with the string \"Dont know\"\n",
    "    df['iron_pills'] = df['iron_pills'].fillna(\"Dont know\")\n",
    "    \n",
    "\n",
    "    return df"
   ]
  },
  {
   "cell_type": "code",
   "execution_count": 3,
   "id": "7cd4eda4-66a7-440b-b91e-7c4a5ee1a4b1",
   "metadata": {},
   "outputs": [
    {
     "data": {
      "text/html": [
       "<div>\n",
       "<style scoped>\n",
       "    .dataframe tbody tr th:only-of-type {\n",
       "        vertical-align: middle;\n",
       "    }\n",
       "\n",
       "    .dataframe tbody tr th {\n",
       "        vertical-align: top;\n",
       "    }\n",
       "\n",
       "    .dataframe thead th {\n",
       "        text-align: right;\n",
       "    }\n",
       "</style>\n",
       "<table border=\"1\" class=\"dataframe\">\n",
       "  <thead>\n",
       "    <tr style=\"text-align: right;\">\n",
       "      <th></th>\n",
       "      <th>age</th>\n",
       "      <th>residence</th>\n",
       "      <th>educational_level</th>\n",
       "      <th>wealth_index</th>\n",
       "      <th>births_5_years</th>\n",
       "      <th>respondent_1st_birth</th>\n",
       "      <th>hemoglobin_altitude_smoking</th>\n",
       "      <th>anemia_level_target</th>\n",
       "      <th>mosquito_net_owners</th>\n",
       "      <th>smokers</th>\n",
       "      <th>marital_status</th>\n",
       "      <th>partner_residence</th>\n",
       "      <th>fever_two_weeks</th>\n",
       "      <th>hemoglobin_altitude</th>\n",
       "      <th>iron_pills</th>\n",
       "    </tr>\n",
       "  </thead>\n",
       "  <tbody>\n",
       "    <tr>\n",
       "      <th>0</th>\n",
       "      <td>40-44</td>\n",
       "      <td>Urban</td>\n",
       "      <td>Higher</td>\n",
       "      <td>Richest</td>\n",
       "      <td>1</td>\n",
       "      <td>22</td>\n",
       "      <td>114.367235</td>\n",
       "      <td>0</td>\n",
       "      <td>Yes</td>\n",
       "      <td>No</td>\n",
       "      <td>Living with partner</td>\n",
       "      <td>Staying elsewhere</td>\n",
       "      <td>No</td>\n",
       "      <td>101.270183</td>\n",
       "      <td>Yes</td>\n",
       "    </tr>\n",
       "    <tr>\n",
       "      <th>1</th>\n",
       "      <td>35-39</td>\n",
       "      <td>Urban</td>\n",
       "      <td>Higher</td>\n",
       "      <td>Richest</td>\n",
       "      <td>1</td>\n",
       "      <td>28</td>\n",
       "      <td>114.367235</td>\n",
       "      <td>0</td>\n",
       "      <td>Yes</td>\n",
       "      <td>No</td>\n",
       "      <td>Married</td>\n",
       "      <td>Living with her</td>\n",
       "      <td>No</td>\n",
       "      <td>101.270183</td>\n",
       "      <td>No</td>\n",
       "    </tr>\n",
       "    <tr>\n",
       "      <th>2</th>\n",
       "      <td>25-29</td>\n",
       "      <td>Urban</td>\n",
       "      <td>Higher</td>\n",
       "      <td>Richest</td>\n",
       "      <td>1</td>\n",
       "      <td>26</td>\n",
       "      <td>114.367235</td>\n",
       "      <td>0</td>\n",
       "      <td>No</td>\n",
       "      <td>No</td>\n",
       "      <td>Married</td>\n",
       "      <td>Living with her</td>\n",
       "      <td>No</td>\n",
       "      <td>101.270183</td>\n",
       "      <td>No</td>\n",
       "    </tr>\n",
       "    <tr>\n",
       "      <th>3</th>\n",
       "      <td>25-29</td>\n",
       "      <td>Urban</td>\n",
       "      <td>Secondary</td>\n",
       "      <td>Richest</td>\n",
       "      <td>1</td>\n",
       "      <td>25</td>\n",
       "      <td>95.000000</td>\n",
       "      <td>1</td>\n",
       "      <td>Yes</td>\n",
       "      <td>No</td>\n",
       "      <td>Married</td>\n",
       "      <td>Living with her</td>\n",
       "      <td>No</td>\n",
       "      <td>114.000000</td>\n",
       "      <td>No</td>\n",
       "    </tr>\n",
       "    <tr>\n",
       "      <th>4</th>\n",
       "      <td>20-24</td>\n",
       "      <td>Urban</td>\n",
       "      <td>Secondary</td>\n",
       "      <td>Richest</td>\n",
       "      <td>1</td>\n",
       "      <td>21</td>\n",
       "      <td>114.367235</td>\n",
       "      <td>0</td>\n",
       "      <td>Yes</td>\n",
       "      <td>No</td>\n",
       "      <td>No longer living together/separated</td>\n",
       "      <td>Staying elsewhere</td>\n",
       "      <td>No</td>\n",
       "      <td>101.270183</td>\n",
       "      <td>No</td>\n",
       "    </tr>\n",
       "  </tbody>\n",
       "</table>\n",
       "</div>"
      ],
      "text/plain": [
       "     age residence educational_level wealth_index  births_5_years  \\\n",
       "0  40-44     Urban            Higher      Richest               1   \n",
       "1  35-39     Urban            Higher      Richest               1   \n",
       "2  25-29     Urban            Higher      Richest               1   \n",
       "3  25-29     Urban         Secondary      Richest               1   \n",
       "4  20-24     Urban         Secondary      Richest               1   \n",
       "\n",
       "   respondent_1st_birth  hemoglobin_altitude_smoking  anemia_level_target  \\\n",
       "0                    22                   114.367235                    0   \n",
       "1                    28                   114.367235                    0   \n",
       "2                    26                   114.367235                    0   \n",
       "3                    25                    95.000000                    1   \n",
       "4                    21                   114.367235                    0   \n",
       "\n",
       "  mosquito_net_owners smokers                       marital_status  \\\n",
       "0                 Yes      No                  Living with partner   \n",
       "1                 Yes      No                              Married   \n",
       "2                  No      No                              Married   \n",
       "3                 Yes      No                              Married   \n",
       "4                 Yes      No  No longer living together/separated   \n",
       "\n",
       "   partner_residence fever_two_weeks  hemoglobin_altitude iron_pills  \n",
       "0  Staying elsewhere              No           101.270183        Yes  \n",
       "1    Living with her              No           101.270183         No  \n",
       "2    Living with her              No           101.270183         No  \n",
       "3    Living with her              No           114.000000         No  \n",
       "4  Staying elsewhere              No           101.270183         No  "
      ]
     },
     "execution_count": 3,
     "metadata": {},
     "output_type": "execute_result"
    }
   ],
   "source": [
    "df = wrangle(\"children anemia.csv\")\n",
    "df.head()"
   ]
  },
  {
   "cell_type": "markdown",
   "id": "eed996dc-ecfa-4d96-8baa-e0d5329ec598",
   "metadata": {},
   "source": [
    "## Split"
   ]
  },
  {
   "cell_type": "markdown",
   "id": "eb1c1302-6739-4243-8233-d414e8ce448f",
   "metadata": {},
   "source": [
    "I'll Create my feature matrix X and target vector y. My target is \"anemia_level_target\""
   ]
  },
  {
   "cell_type": "code",
   "execution_count": 4,
   "id": "345c5a38-bf35-4986-a01a-08fa2950965d",
   "metadata": {},
   "outputs": [],
   "source": [
    "# create feature and target .\n",
    "target = \"anemia_level_target\"\n",
    "X = df.drop(columns=target)\n",
    "y = df[target]"
   ]
  },
  {
   "cell_type": "markdown",
   "id": "071dbc26-1a64-42cf-917d-710722e49ce1",
   "metadata": {},
   "source": [
    "I'll now use a randomized train-test split to divide my data (X and Y) into training and test sets. 20% of my entire data are in my test set. Next, to ensure reproducibility, I'll set a random state."
   ]
  },
  {
   "cell_type": "code",
   "execution_count": 5,
   "id": "e230e247-2836-4b00-af6d-34346df6f862",
   "metadata": {},
   "outputs": [
    {
     "name": "stdout",
     "output_type": "stream",
     "text": [
      "X_train shape: (27139, 14)\n",
      "y_train shape: (27139,)\n",
      "X_test shape: (6785, 14)\n",
      "y_test shape: (6785,)\n"
     ]
    }
   ],
   "source": [
    "X_train, X_test, y_train, y_test = train_test_split(\n",
    "X, y,test_size=0.2, random_state=42\n",
    ")\n",
    "\n",
    "print(\"X_train shape:\", X_train.shape)\n",
    "print(\"y_train shape:\", y_train.shape)\n",
    "print(\"X_test shape:\", X_test.shape)\n",
    "print(\"y_test shape:\", y_test.shape)"
   ]
  },
  {
   "cell_type": "markdown",
   "id": "4d29944d-8101-47ed-b152-fa6a4d95eb3e",
   "metadata": {},
   "source": [
    "## Build Model\n"
   ]
  },
  {
   "cell_type": "markdown",
   "id": "db609c60-256c-4ccc-b92e-38fafc28ebc3",
   "metadata": {},
   "source": [
    "## Baseline\n"
   ]
  },
  {
   "cell_type": "markdown",
   "id": "74e378f2-6ca4-4c6f-b040-20a1d64c4490",
   "metadata": {},
   "source": [
    "### Calculating Accuracy Score\n"
   ]
  },
  {
   "cell_type": "markdown",
   "id": "f30bd452-2aa3-4ae1-abda-fb5f032351df",
   "metadata": {},
   "source": [
    "A natural choice for a metric for classification is accuracy. Accuracy is equal to the number of observations you correctly classified over all observations. .Accuracy is an easy metric to both understand and calculate. Mathematically, it is simply\n",
    "number of **correct observations / number of observations**"
   ]
  },
  {
   "cell_type": "code",
   "execution_count": 7,
   "id": "d536dc88-bee8-45ef-8068-6cd6f40f690b",
   "metadata": {},
   "outputs": [
    {
     "name": "stdout",
     "output_type": "stream",
     "text": [
      "Baseline Accuracy: 0.61\n"
     ]
    }
   ],
   "source": [
    "acc_baseline = y_train.value_counts(normalize=True).max()\n",
    "print(\"Baseline Accuracy:\", round(acc_baseline, 2))"
   ]
  },
  {
   "cell_type": "markdown",
   "id": "344c7d97-1c01-4cca-b655-ec2da897e3b4",
   "metadata": {},
   "source": [
    "## Iterate\n"
   ]
  },
  {
   "cell_type": "markdown",
   "id": "b043e64c-b8c8-4cae-ad6a-4dc01077ad20",
   "metadata": {},
   "source": [
    "Now I'll build a pipeline called model that has a LogisticRegression predictor and a OneHotEncoder transformer in it. I'll also set my transformer's use cat names argument to True. Afterward, fit it to the training data."
   ]
  },
  {
   "cell_type": "code",
   "execution_count": 18,
   "id": "cd4611a4-36a7-4ce5-8bd7-dfce0b7638d7",
   "metadata": {},
   "outputs": [
    {
     "name": "stderr",
     "output_type": "stream",
     "text": [
      "/home/linuxsomto/anaconda3/envs/env_name/lib/python3.8/site-packages/sklearn/linear_model/_logistic.py:814: ConvergenceWarning: lbfgs failed to converge (status=1):\n",
      "STOP: TOTAL NO. of ITERATIONS REACHED LIMIT.\n",
      "\n",
      "Increase the number of iterations (max_iter) or scale the data as shown in:\n",
      "    https://scikit-learn.org/stable/modules/preprocessing.html\n",
      "Please also refer to the documentation for alternative solver options:\n",
      "    https://scikit-learn.org/stable/modules/linear_model.html#logistic-regression\n",
      "  n_iter_i = _check_optimize_result(\n"
     ]
    },
    {
     "data": {
      "text/plain": [
       "Pipeline(steps=[('columntransformer',\n",
       "                 ColumnTransformer(transformers=[('num', SimpleImputer(),\n",
       "                                                  Index(['births_5_years', 'respondent_1st_birth', 'hemoglobin_altitude_smoking',\n",
       "       'hemoglobin_altitude'],\n",
       "      dtype='object')),\n",
       "                                                 ('cat',\n",
       "                                                  Pipeline(steps=[('simpleimputer',\n",
       "                                                                   SimpleImputer(strategy='most_frequent')),\n",
       "                                                                  ('onehotencoder',\n",
       "                                                                   OneHotEncoder(handle_unknown='ignore'))]),\n",
       "                                                  ['age', 'residence',\n",
       "                                                   'educational_level',\n",
       "                                                   'wealth_index',\n",
       "                                                   'mosquito_net_owners',\n",
       "                                                   'smokers', 'marital_status',\n",
       "                                                   'partner_residence',\n",
       "                                                   'fever_two_weeks',\n",
       "                                                   'iron_pills'])])),\n",
       "                ('logisticregression', LogisticRegression(max_iter=1000))])"
      ]
     },
     "execution_count": 18,
     "metadata": {},
     "output_type": "execute_result"
    }
   ],
   "source": [
    "# Detect categorical columns\n",
    "categorical_columns = df.select_dtypes(include=['object']).columns\n",
    "threshold = 10\n",
    "categorical_columns = [col for col in categorical_columns if df[col].nunique() <= threshold]\n",
    "\n",
    "\n",
    "# Define preprocessing steps\n",
    "numeric_features = X.select_dtypes(include=['int64', 'float64']).columns\n",
    "numeric_transformer = SimpleImputer(strategy='mean')\n",
    "\n",
    "categorical_features = categorical_columns\n",
    "categorical_transformer = make_pipeline(\n",
    "    SimpleImputer(strategy='most_frequent'),\n",
    "    OneHotEncoder(handle_unknown='ignore')\n",
    ")\n",
    "\n",
    "preprocessor = ColumnTransformer(\n",
    "    transformers=[\n",
    "        ('num', numeric_transformer, numeric_features),\n",
    "        ('cat', categorical_transformer, categorical_features)\n",
    "    ]\n",
    ")\n",
    "\n",
    "# Build the model pipeline\n",
    "model = make_pipeline(\n",
    "    preprocessor,\n",
    "    LogisticRegression(max_iter=1000)\n",
    ")\n",
    "\n",
    "# Fit the model to the training data\n",
    "model.fit(X_train, y_train)\n"
   ]
  },
  {
   "cell_type": "code",
   "execution_count": 19,
   "id": "80dcf89a-50da-4361-90d5-0363f1f041a1",
   "metadata": {},
   "outputs": [],
   "source": [
    "# Make predictions on the test set\n",
    "y_pred = model.predict(X_test)"
   ]
  },
  {
   "cell_type": "code",
   "execution_count": 22,
   "id": "f500d563-8725-4077-95ef-13ecce082e58",
   "metadata": {},
   "outputs": [
    {
     "name": "stdout",
     "output_type": "stream",
     "text": [
      "Model Accuracy: 0.8212232866617538\n"
     ]
    }
   ],
   "source": [
    "# Evaluate the model\n",
    "accuracy = accuracy_score(y_test, y_pred)\n",
    "print(f'Model Accuracy: {accuracy}')"
   ]
  },
  {
   "cell_type": "code",
   "execution_count": 24,
   "id": "bee2317c-d907-473d-a6e4-7b245a1c6364",
   "metadata": {},
   "outputs": [
    {
     "data": {
      "image/png": "[encoded data removed]",
      "text/plain": [
       "<Figure size 640x480 with 2 Axes>"
      ]
     },
     "metadata": {},
     "output_type": "display_data"
    }
   ],
   "source": [
    "# plot a confusion matrix\n",
    "y_pred = model.predict(X_test)\n",
    "cm = confusion_matrix(y_test, y_pred)\n",
    "\n",
    "sns.heatmap(cm, annot=True, fmt=\"d\")\n",
    "plt.show()\n"
   ]
  },
  {
   "cell_type": "code",
   "execution_count": null,
   "id": "aa341c0d-496a-48a1-9a7b-a48455ad4014",
   "metadata": {},
   "outputs": [],
   "source": []
  }
 ],
 "metadata": {
  "kernelspec": {
   "display_name": "Python 3",
   "language": "python",
   "name": "python3"
  },
  "language_info": {
   "codemirror_mode": {
    "name": "ipython",
    "version": 3
   },
   "file_extension": ".py",
   "mimetype": "text/x-python",
   "name": "python",
   "nbconvert_exporter": "python",
   "pygments_lexer": "ipython3",
   "version": "3.8.16"
  }
 },
 "nbformat": 4,
 "nbformat_minor": 5
}
