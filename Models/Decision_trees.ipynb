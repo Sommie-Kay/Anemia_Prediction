{
 "cells": [
  {
   "cell_type": "markdown",
   "id": "5f77f3bc-6e01-4d38-9d30-f76752e1f63e",
   "metadata": {},
   "source": [
    "# Decision Trees"
   ]
  },
  {
   "cell_type": "markdown",
   "id": "d98ae9f2-3117-4423-a455-5528b287a30b",
   "metadata": {},
   "source": [
    "## Import Libraries"
   ]
  },
  {
   "cell_type": "code",
   "execution_count": 1,
   "id": "2d959542-b600-41b6-83b5-364c6692cefe",
   "metadata": {},
   "outputs": [],
   "source": [
    "import warnings\n",
    "\n",
    "import matplotlib.pyplot as plt\n",
    "import pandas as pd\n",
    "from category_encoders import OrdinalEncoder\n",
    "from IPython.display import VimeoVideo\n",
    "from sklearn.metrics import accuracy_score\n",
    "from sklearn.model_selection import train_test_split\n",
    "from sklearn.pipeline import Pipeline, make_pipeline\n",
    "from sklearn.tree import DecisionTreeClassifier, plot_tree\n",
    "from sklearn.utils.validation import check_is_fitted\n",
    "\n",
    "warnings.simplefilter(action=\"ignore\", category=FutureWarning)"
   ]
  },
  {
   "cell_type": "markdown",
   "id": "bcba0784-c586-419f-83fa-dad66a0bbd3e",
   "metadata": {},
   "source": [
    "## Import"
   ]
  },
  {
   "cell_type": "markdown",
   "id": "a2b5b57f-1389-4149-8968-80559258e098",
   "metadata": {},
   "source": [
    "I'll bring back my wrangle function from the data exploration phase "
   ]
  },
  {
   "cell_type": "code",
   "execution_count": 2,
   "id": "41afcd7f-a170-4ef6-b439-1137e8fc8aae",
   "metadata": {},
   "outputs": [],
   "source": [
    "def wrangle(filepath):\n",
    "    # read csv into DataFrame\n",
    "    df = pd.read_csv(filepath)\n",
    "    \n",
    "    # Rename columns for better clarity and to facilitate analysis\n",
    "    df.rename(columns={'Age in 5-year groups': 'age',\n",
    "                       'Type of place of residence': 'residence',\n",
    "                       'Highest educational level': 'educational_level',\n",
    "                       'Wealth index combined': 'wealth_index',\n",
    "                       'Births in last five years': 'births_5_years',\n",
    "                       'Age of respondent at 1st birth': 'respondent_1st_birth',\n",
    "                       'Hemoglobin level adjusted for altitude and smoking (g/dl - 1 decimal)': 'hemoglobin_altitude_smoking',\n",
    "                       'Anemia level': 'anemia_level_target',\n",
    "                       'Have mosquito bed net for sleeping (from household questionnaire)': 'mosquito_net_owners',\n",
    "                       'Smokes cigarettes': 'smokers',\n",
    "                       'Current marital status': 'marital_status',\n",
    "                       'Currently residing with husband/partner': 'partner_residence',\n",
    "                       'When child put to breast': 'child_put_breast',\n",
    "                       'Had fever in last two weeks': 'fever_two_weeks',\n",
    "                       'Hemoglobin level adjusted for altitude (g/dl - 1 decimal)': 'hemoglobin_altitude',\n",
    "                       'Anemia level.1': 'anemia_level_1',\n",
    "                       'Taking iron pills, sprinkles or syrup': 'iron_pills'}, inplace=True)\n",
    "    \n",
    "    # drop collumn with 50% null values .\n",
    "    df.drop(columns=\"anemia_level_1\" , inplace = True)\n",
    "    \n",
    "    # List of columns to impute\n",
    "    columns_to_impute = ['hemoglobin_altitude_smoking','hemoglobin_altitude']\n",
    "\n",
    "    # Convert relevant columns to numeric before imputing\n",
    "    numeric_columns = columns_to_impute\n",
    "    for column in numeric_columns:\n",
    "        df[column] = pd.to_numeric(df[column], errors='coerce')\n",
    "\n",
    "    # Impute missing values with mean\n",
    "    for column in columns_to_impute:\n",
    "        mean_value = df[column].mean()\n",
    "        df[column].fillna(mean_value, inplace=True)\n",
    "        \n",
    "    # drop the column for high cardinality\n",
    "    df.drop(columns=\"child_put_breast\", inplace=True)  \n",
    "    \n",
    "    # Fill NaN values in specified columns with the string \"Dont know\"\n",
    "    df['anemia_level_target'] = df['anemia_level_target'].fillna(\"Dont know\") \n",
    "    \n",
    "    #'Anemia level'  mapping\n",
    "    category_mapping = {'Dont know': 0, 'Moderate': 1, 'Mild': 2, 'Not anemic': 3, 'Severe': 4}\n",
    "\n",
    "    # Map the categories to numerical values\n",
    "    df['anemia_level_target'] = df['anemia_level_target'].map(category_mapping)\n",
    "    \n",
    "    \n",
    "    # define a function\n",
    "    def replace_nan_with_word(x, word='Staying elsewhere'):\n",
    "        \"\"\"\n",
    "        Replace NaN values in a pandas Series with a specified word.\n",
    "\n",
    "        Parameters:\n",
    "        - x: pandas Series\n",
    "        - word: str, default='Staying elsewhere'\n",
    "        \"\"\"\n",
    "        return x.fillna(word)\n",
    "\n",
    "    # Apply the function to replace NaN values in the column\n",
    "    df['partner_residence'] = replace_nan_with_word(df['partner_residence'])\n",
    "\n",
    "    # Fill NaN values in the 'fever_two_weeks' column with the string \"Dont know\"\n",
    "    df['fever_two_weeks'] = df['fever_two_weeks'].fillna(\"Dont know\")\n",
    "    \n",
    "    # Fill NaN values in the 'iron_pills' column with the string \"Dont know\"\n",
    "    df['iron_pills'] = df['iron_pills'].fillna(\"Dont know\")\n",
    "    \n",
    "\n",
    "    return df"
   ]
  },
  {
   "cell_type": "code",
   "execution_count": 3,
   "id": "427793a5-96c9-4618-8895-be550d78bf64",
   "metadata": {},
   "outputs": [
    {
     "data": {
      "text/html": [
       "<div>\n",
       "<style scoped>\n",
       "    .dataframe tbody tr th:only-of-type {\n",
       "        vertical-align: middle;\n",
       "    }\n",
       "\n",
       "    .dataframe tbody tr th {\n",
       "        vertical-align: top;\n",
       "    }\n",
       "\n",
       "    .dataframe thead th {\n",
       "        text-align: right;\n",
       "    }\n",
       "</style>\n",
       "<table border=\"1\" class=\"dataframe\">\n",
       "  <thead>\n",
       "    <tr style=\"text-align: right;\">\n",
       "      <th></th>\n",
       "      <th>age</th>\n",
       "      <th>residence</th>\n",
       "      <th>educational_level</th>\n",
       "      <th>wealth_index</th>\n",
       "      <th>births_5_years</th>\n",
       "      <th>respondent_1st_birth</th>\n",
       "      <th>hemoglobin_altitude_smoking</th>\n",
       "      <th>anemia_level_target</th>\n",
       "      <th>mosquito_net_owners</th>\n",
       "      <th>smokers</th>\n",
       "      <th>marital_status</th>\n",
       "      <th>partner_residence</th>\n",
       "      <th>fever_two_weeks</th>\n",
       "      <th>hemoglobin_altitude</th>\n",
       "      <th>iron_pills</th>\n",
       "    </tr>\n",
       "  </thead>\n",
       "  <tbody>\n",
       "    <tr>\n",
       "      <th>0</th>\n",
       "      <td>40-44</td>\n",
       "      <td>Urban</td>\n",
       "      <td>Higher</td>\n",
       "      <td>Richest</td>\n",
       "      <td>1</td>\n",
       "      <td>22</td>\n",
       "      <td>114.367235</td>\n",
       "      <td>0</td>\n",
       "      <td>Yes</td>\n",
       "      <td>No</td>\n",
       "      <td>Living with partner</td>\n",
       "      <td>Staying elsewhere</td>\n",
       "      <td>No</td>\n",
       "      <td>101.270183</td>\n",
       "      <td>Yes</td>\n",
       "    </tr>\n",
       "    <tr>\n",
       "      <th>1</th>\n",
       "      <td>35-39</td>\n",
       "      <td>Urban</td>\n",
       "      <td>Higher</td>\n",
       "      <td>Richest</td>\n",
       "      <td>1</td>\n",
       "      <td>28</td>\n",
       "      <td>114.367235</td>\n",
       "      <td>0</td>\n",
       "      <td>Yes</td>\n",
       "      <td>No</td>\n",
       "      <td>Married</td>\n",
       "      <td>Living with her</td>\n",
       "      <td>No</td>\n",
       "      <td>101.270183</td>\n",
       "      <td>No</td>\n",
       "    </tr>\n",
       "    <tr>\n",
       "      <th>2</th>\n",
       "      <td>25-29</td>\n",
       "      <td>Urban</td>\n",
       "      <td>Higher</td>\n",
       "      <td>Richest</td>\n",
       "      <td>1</td>\n",
       "      <td>26</td>\n",
       "      <td>114.367235</td>\n",
       "      <td>0</td>\n",
       "      <td>No</td>\n",
       "      <td>No</td>\n",
       "      <td>Married</td>\n",
       "      <td>Living with her</td>\n",
       "      <td>No</td>\n",
       "      <td>101.270183</td>\n",
       "      <td>No</td>\n",
       "    </tr>\n",
       "    <tr>\n",
       "      <th>3</th>\n",
       "      <td>25-29</td>\n",
       "      <td>Urban</td>\n",
       "      <td>Secondary</td>\n",
       "      <td>Richest</td>\n",
       "      <td>1</td>\n",
       "      <td>25</td>\n",
       "      <td>95.000000</td>\n",
       "      <td>1</td>\n",
       "      <td>Yes</td>\n",
       "      <td>No</td>\n",
       "      <td>Married</td>\n",
       "      <td>Living with her</td>\n",
       "      <td>No</td>\n",
       "      <td>114.000000</td>\n",
       "      <td>No</td>\n",
       "    </tr>\n",
       "    <tr>\n",
       "      <th>4</th>\n",
       "      <td>20-24</td>\n",
       "      <td>Urban</td>\n",
       "      <td>Secondary</td>\n",
       "      <td>Richest</td>\n",
       "      <td>1</td>\n",
       "      <td>21</td>\n",
       "      <td>114.367235</td>\n",
       "      <td>0</td>\n",
       "      <td>Yes</td>\n",
       "      <td>No</td>\n",
       "      <td>No longer living together/separated</td>\n",
       "      <td>Staying elsewhere</td>\n",
       "      <td>No</td>\n",
       "      <td>101.270183</td>\n",
       "      <td>No</td>\n",
       "    </tr>\n",
       "  </tbody>\n",
       "</table>\n",
       "</div>"
      ],
      "text/plain": [
       "     age residence educational_level wealth_index  births_5_years  \\\n",
       "0  40-44     Urban            Higher      Richest               1   \n",
       "1  35-39     Urban            Higher      Richest               1   \n",
       "2  25-29     Urban            Higher      Richest               1   \n",
       "3  25-29     Urban         Secondary      Richest               1   \n",
       "4  20-24     Urban         Secondary      Richest               1   \n",
       "\n",
       "   respondent_1st_birth  hemoglobin_altitude_smoking  anemia_level_target  \\\n",
       "0                    22                   114.367235                    0   \n",
       "1                    28                   114.367235                    0   \n",
       "2                    26                   114.367235                    0   \n",
       "3                    25                    95.000000                    1   \n",
       "4                    21                   114.367235                    0   \n",
       "\n",
       "  mosquito_net_owners smokers                       marital_status  \\\n",
       "0                 Yes      No                  Living with partner   \n",
       "1                 Yes      No                              Married   \n",
       "2                  No      No                              Married   \n",
       "3                 Yes      No                              Married   \n",
       "4                 Yes      No  No longer living together/separated   \n",
       "\n",
       "   partner_residence fever_two_weeks  hemoglobin_altitude iron_pills  \n",
       "0  Staying elsewhere              No           101.270183        Yes  \n",
       "1    Living with her              No           101.270183         No  \n",
       "2    Living with her              No           101.270183         No  \n",
       "3    Living with her              No           114.000000         No  \n",
       "4  Staying elsewhere              No           101.270183         No  "
      ]
     },
     "execution_count": 3,
     "metadata": {},
     "output_type": "execute_result"
    }
   ],
   "source": [
    "df = wrangle(\"children anemia.csv\")\n",
    "df.head()"
   ]
  },
  {
   "cell_type": "markdown",
   "id": "8cc94ddf-d843-4659-903f-c65458ed6f29",
   "metadata": {},
   "source": [
    "## Split"
   ]
  },
  {
   "cell_type": "markdown",
   "id": "31121e1e-cf8c-45be-834c-bb99d758c334",
   "metadata": {},
   "source": [
    "I'll Create my feature matrix X and target vector y. My target is \"anemia_level_target\""
   ]
  },
  {
   "cell_type": "code",
   "execution_count": 4,
   "id": "306a1116-6fec-4206-babb-207efd7ded71",
   "metadata": {},
   "outputs": [],
   "source": [
    "# create feature and target .\n",
    "target = \"anemia_level_target\"\n",
    "X = df.drop(columns=target)\n",
    "y = df[target]"
   ]
  },
  {
   "cell_type": "markdown",
   "id": "a544dc52-8895-48dd-8a69-36d239bda3f9",
   "metadata": {},
   "source": [
    "I'll now use a randomized train-test split to divide my data (X and Y) into training and test sets. 20% of my entire data are in my test set. Next, to ensure reproducibility, I'll set a random state."
   ]
  },
  {
   "cell_type": "code",
   "execution_count": 5,
   "id": "7236b476-eb42-4696-bb81-45eef0122b10",
   "metadata": {},
   "outputs": [
    {
     "name": "stdout",
     "output_type": "stream",
     "text": [
      "X_train shape: (27139, 14)\n",
      "y_train shape: (27139,)\n",
      "X_test shape: (6785, 14)\n",
      "y_test shape: (6785,)\n"
     ]
    }
   ],
   "source": [
    "X_train, X_test, y_train, y_test = train_test_split(\n",
    "X, y,test_size=0.2, random_state=42\n",
    ")\n",
    "\n",
    "print(\"X_train shape:\", X_train.shape)\n",
    "print(\"y_train shape:\", y_train.shape)\n",
    "print(\"X_test shape:\", X_test.shape)\n",
    "print(\"y_test shape:\", y_test.shape)"
   ]
  },
  {
   "cell_type": "markdown",
   "id": "f90a42f8-c6c2-4f18-825f-32a6c1c11aef",
   "metadata": {},
   "source": [
    "## Build Model"
   ]
  },
  {
   "cell_type": "markdown",
   "id": "c78ca221-86fd-49e6-886f-4fdc94b5da9a",
   "metadata": {},
   "source": [
    "### Baseline"
   ]
  },
  {
   "cell_type": "markdown",
   "id": "4d2ca8b8-93d2-43cf-91d9-8e68e4bf8141",
   "metadata": {},
   "source": [
    "Calculate the baseline accuracy score for my model."
   ]
  },
  {
   "cell_type": "code",
   "execution_count": 6,
   "id": "a9432a80-fd52-4730-88e0-dd9dd597912b",
   "metadata": {},
   "outputs": [
    {
     "name": "stdout",
     "output_type": "stream",
     "text": [
      "Baseline Accuracy: 0.61\n"
     ]
    }
   ],
   "source": [
    "acc_baseline = y_train.value_counts(normalize=True).max()\n",
    "print(\"Baseline Accuracy:\", round(acc_baseline, 2))"
   ]
  },
  {
   "cell_type": "code",
   "execution_count": 7,
   "id": "30a185d0-b12a-4567-9659-dc2af2bf462a",
   "metadata": {},
   "outputs": [
    {
     "data": {
      "text/plain": [
       "Pipeline(steps=[('ordinalencoder',\n",
       "                 OrdinalEncoder(cols=['age', 'residence', 'educational_level',\n",
       "                                      'wealth_index', 'mosquito_net_owners',\n",
       "                                      'smokers', 'marital_status',\n",
       "                                      'partner_residence', 'fever_two_weeks',\n",
       "                                      'iron_pills'],\n",
       "                                mapping=[{'col': 'age', 'data_type': dtype('O'),\n",
       "                                          'mapping': 20-24    1\n",
       "30-34    2\n",
       "15-19    3\n",
       "25-29    4\n",
       "35-39    5\n",
       "40-44    6\n",
       "45-49    7\n",
       "NaN     -2\n",
       "dtype: int64},\n",
       "                                         {'col': 'residence',\n",
       "                                          'data_t...\n",
       "                                          'data_type': dtype('O'),\n",
       "                                          'mapping': Living with her      1\n",
       "Staying elsewhere    2\n",
       "NaN                 -2\n",
       "dtype: int64},\n",
       "                                         {'col': 'fever_two_weeks',\n",
       "                                          'data_type': dtype('O'),\n",
       "                                          'mapping': Yes           1\n",
       "No            2\n",
       "Don't know    3\n",
       "Dont know     4\n",
       "NaN          -2\n",
       "dtype: int64},\n",
       "                                         {'col': 'iron_pills',\n",
       "                                          'data_type': dtype('O'),\n",
       "                                          'mapping': No            1\n",
       "Yes           2\n",
       "Dont know     3\n",
       "Don't know    4\n",
       "NaN          -2\n",
       "dtype: int64}])),\n",
       "                ('decisiontreeclassifier',\n",
       "                 DecisionTreeClassifier(max_depth=6, random_state=42))])"
      ]
     },
     "execution_count": 7,
     "metadata": {},
     "output_type": "execute_result"
    }
   ],
   "source": [
    "# Build Model\n",
    "model = make_pipeline(\n",
    "   OrdinalEncoder(), DecisionTreeClassifier(max_depth=6, random_state=42)\n",
    ")\n",
    "# Fit model to training data\n",
    "model.fit(X_train,y_train)"
   ]
  },
  {
   "cell_type": "markdown",
   "id": "696632fb-5362-4569-9b48-cc1f18703791",
   "metadata": {},
   "source": [
    "Next i'll Calculate the training accuracy score for my model."
   ]
  },
  {
   "cell_type": "code",
   "execution_count": 8,
   "id": "3a185f07-fb52-4334-bef0-8171357f8a26",
   "metadata": {},
   "outputs": [
    {
     "name": "stdout",
     "output_type": "stream",
     "text": [
      "Training Accuracy: 0.97\n"
     ]
    }
   ],
   "source": [
    "#t Accuracy score for training Data\n",
    "acc_train = accuracy_score(y_train,model.predict(X_train)) \n",
    "print(\"Training Accuracy:\", round(acc_train, 2))"
   ]
  },
  {
   "cell_type": "markdown",
   "id": "eb4db309-69cf-4416-a002-e310e3a904b2",
   "metadata": {},
   "source": [
    "## Evaluate"
   ]
  },
  {
   "cell_type": "code",
   "execution_count": 9,
   "id": "661bcff9-94b6-4158-a22a-2f59d07d94ba",
   "metadata": {},
   "outputs": [
    {
     "name": "stdout",
     "output_type": "stream",
     "text": [
      "Test Accuracy: 0.97\n"
     ]
    }
   ],
   "source": [
    "test_acc = model.score(X_test,y_test)\n",
    "print(\"Test Accuracy:\", round(test_acc, 2))"
   ]
  },
  {
   "cell_type": "markdown",
   "id": "e1dd5a98-3ec5-40ad-8bd8-6c7608f7e613",
   "metadata": {},
   "source": [
    "Next i'll assign the feature names and importances of my model to the variables below. For the features, they are the column names in my training set. For the importances, they are the feature_importances_ attribute of my model's DecisionTreeClassifier."
   ]
  },
  {
   "cell_type": "code",
   "execution_count": 10,
   "id": "512cc9b7-b4e1-4ac1-ac53-fd7c01a53a94",
   "metadata": {},
   "outputs": [
    {
     "name": "stdout",
     "output_type": "stream",
     "text": [
      "Features: Index(['age', 'residence', 'educational_level', 'wealth_index'], dtype='object')\n",
      "Importances: [0.00034806 0.         0.0001557  0.00013178]\n"
     ]
    }
   ],
   "source": [
    "features = X_train.columns\n",
    "importances = model.named_steps[\"decisiontreeclassifier\"].feature_importances_\n",
    "\n",
    "\n",
    "print(\"Features:\", features[:4])\n",
    "print(\"Importances:\", importances[:4])"
   ]
  },
  {
   "cell_type": "markdown",
   "id": "b1f06eb7-2444-4f34-b9f4-a4be9ac870ac",
   "metadata": {},
   "source": [
    "Next i'll Create a pandas Series named feat_imp, where the index is features and the values are my importances. The Series will be sorted from smallest to largest importance."
   ]
  },
  {
   "cell_type": "code",
   "execution_count": 11,
   "id": "acb8d47b-36b7-4318-bc20-617e9f808fa5",
   "metadata": {},
   "outputs": [
    {
     "data": {
      "text/plain": [
       "residence              0.0\n",
       "mosquito_net_owners    0.0\n",
       "partner_residence      0.0\n",
       "fever_two_weeks        0.0\n",
       "iron_pills             0.0\n",
       "dtype: float64"
      ]
     },
     "execution_count": 11,
     "metadata": {},
     "output_type": "execute_result"
    }
   ],
   "source": [
    "feat_imp = pd.Series(importances, index=features).sort_values()\n",
    "feat_imp.head()"
   ]
  },
  {
   "cell_type": "markdown",
   "id": "b740824b-984b-4753-a0e1-e8a0ef4f7b93",
   "metadata": {},
   "source": [
    "Next i'll visualze by Creating a horizontal bar chart with all the features in feat_imp"
   ]
  },
  {
   "cell_type": "code",
   "execution_count": 12,
   "id": "871fd41e-d209-4619-bd55-2a697c84da52",
   "metadata": {},
   "outputs": [
    {
     "data": {
      "image/png": "[encoded data removed]",
      "text/plain": [
       "<Figure size 640x480 with 1 Axes>"
      ]
     },
     "metadata": {},
     "output_type": "display_data"
    }
   ],
   "source": [
    "# Create horizontal bar chart\n",
    "feat_imp.plot(kind=\"barh\")\n",
    "plt.xlabel(\"Gini Importance\")\n",
    "plt.ylabel(\"Feature\");"
   ]
  },
  {
   "cell_type": "markdown",
   "id": "b9d65ecb-0cde-41a6-83df-384ca8879165",
   "metadata": {},
   "source": [
    "a Gini importance of 1 for hemoglobin_altitude_smoking feature indicates that this feature is highly valuable for creating splits that lead to pure nodes in the decision tree. It is a strong predictor and plays a crucial role in the model's decision-making process."
   ]
  },
  {
   "cell_type": "code",
   "execution_count": null,
   "id": "38f4c470-5e9e-4eb6-bd78-063c88f4b191",
   "metadata": {},
   "outputs": [],
   "source": []
  }
 ],
 "metadata": {
  "kernelspec": {
   "display_name": "Python 3",
   "language": "python",
   "name": "python3"
  },
  "language_info": {
   "codemirror_mode": {
    "name": "ipython",
    "version": 3
   },
   "file_extension": ".py",
   "mimetype": "text/x-python",
   "name": "python",
   "nbconvert_exporter": "python",
   "pygments_lexer": "ipython3",
   "version": "3.8.16"
  }
 },
 "nbformat": 4,
 "nbformat_minor": 5
}
